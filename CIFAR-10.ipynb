{
 "cells": [
  {
   "cell_type": "code",
   "execution_count": null,
   "id": "a373ecc6",
   "metadata": {},
   "outputs": [
    {
     "name": "stdout",
     "output_type": "stream",
     "text": [
      "Using device: mps\n"
     ]
    },
    {
     "name": "stderr",
     "output_type": "stream",
     "text": [
      "                                                                \r"
     ]
    },
    {
     "name": "stdout",
     "output_type": "stream",
     "text": [
      "[001/200] LR=0.02000 Train loss=1.8168 acc=39.17% | Val loss=1.6472 acc=48.90% | Best val=48.90%\n"
     ]
    },
    {
     "name": "stderr",
     "output_type": "stream",
     "text": [
      "                                                                \r"
     ]
    },
    {
     "name": "stdout",
     "output_type": "stream",
     "text": [
      "[002/200] LR=0.04000 Train loss=1.4748 acc=56.47% | Val loss=1.6314 acc=51.12% | Best val=51.12%\n"
     ]
    },
    {
     "name": "stderr",
     "output_type": "stream",
     "text": [
      "                                                                \r"
     ]
    },
    {
     "name": "stdout",
     "output_type": "stream",
     "text": [
      "[003/200] LR=0.06000 Train loss=1.3016 acc=64.66% | Val loss=1.3004 acc=65.04% | Best val=65.04%\n"
     ]
    },
    {
     "name": "stderr",
     "output_type": "stream",
     "text": [
      "                                                                \r"
     ]
    },
    {
     "name": "stdout",
     "output_type": "stream",
     "text": [
      "[004/200] LR=0.08000 Train loss=1.2134 acc=69.05% | Val loss=1.3090 acc=64.32% | Best val=65.04%\n"
     ]
    },
    {
     "name": "stderr",
     "output_type": "stream",
     "text": [
      "                                                                \r"
     ]
    },
    {
     "name": "stdout",
     "output_type": "stream",
     "text": [
      "[005/200] LR=0.10000 Train loss=1.1561 acc=71.41% | Val loss=1.2805 acc=64.66% | Best val=65.04%\n"
     ]
    },
    {
     "name": "stderr",
     "output_type": "stream",
     "text": [
      "                                                                \r"
     ]
    },
    {
     "name": "stdout",
     "output_type": "stream",
     "text": [
      "[006/200] LR=0.10000 Train loss=1.1034 acc=73.51% | Val loss=1.2321 acc=67.88% | Best val=67.88%\n"
     ]
    },
    {
     "name": "stderr",
     "output_type": "stream",
     "text": [
      "                                                                \r"
     ]
    },
    {
     "name": "stdout",
     "output_type": "stream",
     "text": [
      "[007/200] LR=0.09999 Train loss=1.0659 acc=75.56% | Val loss=1.0919 acc=73.12% | Best val=73.12%\n"
     ]
    },
    {
     "name": "stderr",
     "output_type": "stream",
     "text": [
      "                                                                \r"
     ]
    },
    {
     "name": "stdout",
     "output_type": "stream",
     "text": [
      "[008/200] LR=0.09997 Train loss=1.0402 acc=76.26% | Val loss=1.1053 acc=73.70% | Best val=73.70%\n"
     ]
    },
    {
     "name": "stderr",
     "output_type": "stream",
     "text": [
      "                                                                \r"
     ]
    },
    {
     "name": "stdout",
     "output_type": "stream",
     "text": [
      "[009/200] LR=0.09994 Train loss=1.0252 acc=77.04% | Val loss=1.1651 acc=70.76% | Best val=73.70%\n"
     ]
    },
    {
     "name": "stderr",
     "output_type": "stream",
     "text": [
      "                                                                 \r"
     ]
    },
    {
     "name": "stdout",
     "output_type": "stream",
     "text": [
      "[010/200] LR=0.09990 Train loss=1.0189 acc=77.44% | Val loss=1.0972 acc=74.48% | Best val=74.48%\n"
     ]
    },
    {
     "name": "stderr",
     "output_type": "stream",
     "text": [
      "                                                                 \r"
     ]
    },
    {
     "name": "stdout",
     "output_type": "stream",
     "text": [
      "[011/200] LR=0.09984 Train loss=1.0022 acc=78.00% | Val loss=1.0702 acc=74.86% | Best val=74.86%\n"
     ]
    },
    {
     "name": "stderr",
     "output_type": "stream",
     "text": [
      "                                                                 \r"
     ]
    },
    {
     "name": "stdout",
     "output_type": "stream",
     "text": [
      "[012/200] LR=0.09977 Train loss=0.9944 acc=78.50% | Val loss=1.0376 acc=76.00% | Best val=76.00%\n"
     ]
    },
    {
     "name": "stderr",
     "output_type": "stream",
     "text": [
      "                                                                 \r"
     ]
    },
    {
     "name": "stdout",
     "output_type": "stream",
     "text": [
      "[013/200] LR=0.09968 Train loss=0.9868 acc=78.76% | Val loss=1.0295 acc=76.46% | Best val=76.46%\n"
     ]
    },
    {
     "name": "stderr",
     "output_type": "stream",
     "text": [
      "                                                                 \r"
     ]
    },
    {
     "name": "stdout",
     "output_type": "stream",
     "text": [
      "[014/200] LR=0.09959 Train loss=0.9822 acc=78.96% | Val loss=1.0913 acc=73.56% | Best val=76.46%\n"
     ]
    },
    {
     "name": "stderr",
     "output_type": "stream",
     "text": [
      "                                                                 \r"
     ]
    },
    {
     "name": "stdout",
     "output_type": "stream",
     "text": [
      "[015/200] LR=0.09948 Train loss=0.9709 acc=79.48% | Val loss=1.0905 acc=74.18% | Best val=76.46%\n"
     ]
    },
    {
     "name": "stderr",
     "output_type": "stream",
     "text": [
      "                                                                 \r"
     ]
    },
    {
     "name": "stdout",
     "output_type": "stream",
     "text": [
      "[016/200] LR=0.09935 Train loss=0.9712 acc=79.44% | Val loss=1.1206 acc=72.70% | Best val=76.46%\n"
     ]
    },
    {
     "name": "stderr",
     "output_type": "stream",
     "text": [
      "                                                                 \r"
     ]
    },
    {
     "name": "stdout",
     "output_type": "stream",
     "text": [
      "[017/200] LR=0.09922 Train loss=0.9700 acc=79.49% | Val loss=1.0450 acc=75.34% | Best val=76.46%\n"
     ]
    },
    {
     "name": "stderr",
     "output_type": "stream",
     "text": [
      "                                                                 \r"
     ]
    },
    {
     "name": "stdout",
     "output_type": "stream",
     "text": [
      "[018/200] LR=0.09907 Train loss=0.9583 acc=80.01% | Val loss=1.0987 acc=74.00% | Best val=76.46%\n"
     ]
    },
    {
     "name": "stderr",
     "output_type": "stream",
     "text": [
      "                                                                 \r"
     ]
    },
    {
     "name": "stdout",
     "output_type": "stream",
     "text": [
      "[019/200] LR=0.09891 Train loss=0.9534 acc=80.31% | Val loss=1.1707 acc=70.72% | Best val=76.46%\n"
     ]
    },
    {
     "name": "stderr",
     "output_type": "stream",
     "text": [
      "                                                                 \r"
     ]
    },
    {
     "name": "stdout",
     "output_type": "stream",
     "text": [
      "[020/200] LR=0.09873 Train loss=0.9518 acc=80.29% | Val loss=1.0698 acc=75.28% | Best val=76.46%\n"
     ]
    },
    {
     "name": "stderr",
     "output_type": "stream",
     "text": [
      "                                                                 \r"
     ]
    },
    {
     "name": "stdout",
     "output_type": "stream",
     "text": [
      "[021/200] LR=0.09855 Train loss=0.9478 acc=80.45% | Val loss=1.0961 acc=73.54% | Best val=76.46%\n"
     ]
    },
    {
     "name": "stderr",
     "output_type": "stream",
     "text": [
      "                                                                 \r"
     ]
    },
    {
     "name": "stdout",
     "output_type": "stream",
     "text": [
      "[022/200] LR=0.09835 Train loss=0.9475 acc=80.65% | Val loss=1.0649 acc=74.62% | Best val=76.46%\n"
     ]
    },
    {
     "name": "stderr",
     "output_type": "stream",
     "text": [
      "                                                                 \r"
     ]
    },
    {
     "name": "stdout",
     "output_type": "stream",
     "text": [
      "[023/200] LR=0.09814 Train loss=0.9399 acc=80.76% | Val loss=1.0553 acc=75.96% | Best val=76.46%\n"
     ]
    },
    {
     "name": "stderr",
     "output_type": "stream",
     "text": [
      "                                                                 \r"
     ]
    },
    {
     "name": "stdout",
     "output_type": "stream",
     "text": [
      "[024/200] LR=0.09791 Train loss=0.9380 acc=80.96% | Val loss=0.9981 acc=78.10% | Best val=78.10%\n"
     ]
    },
    {
     "name": "stderr",
     "output_type": "stream",
     "text": [
      "                                                                 \r"
     ]
    },
    {
     "name": "stdout",
     "output_type": "stream",
     "text": [
      "[025/200] LR=0.09768 Train loss=0.9259 acc=81.31% | Val loss=1.1050 acc=74.18% | Best val=78.10%\n"
     ]
    },
    {
     "name": "stderr",
     "output_type": "stream",
     "text": [
      "                                                                 \r"
     ]
    },
    {
     "name": "stdout",
     "output_type": "stream",
     "text": [
      "[026/200] LR=0.09743 Train loss=0.9279 acc=81.37% | Val loss=0.9948 acc=78.14% | Best val=78.14%\n"
     ]
    },
    {
     "name": "stderr",
     "output_type": "stream",
     "text": [
      "                                                                 \r"
     ]
    },
    {
     "name": "stdout",
     "output_type": "stream",
     "text": [
      "[027/200] LR=0.09717 Train loss=0.9317 acc=81.27% | Val loss=1.0640 acc=75.76% | Best val=78.14%\n"
     ]
    },
    {
     "name": "stderr",
     "output_type": "stream",
     "text": [
      "                                                                 \r"
     ]
    },
    {
     "name": "stdout",
     "output_type": "stream",
     "text": [
      "[028/200] LR=0.09689 Train loss=0.9230 acc=81.71% | Val loss=1.0860 acc=73.66% | Best val=78.14%\n"
     ]
    },
    {
     "name": "stderr",
     "output_type": "stream",
     "text": [
      "                                                                     \r"
     ]
    },
    {
     "name": "stdout",
     "output_type": "stream",
     "text": [
      "[029/200] LR=0.09661 Train loss=0.9255 acc=81.46% | Val loss=1.1130 acc=73.88% | Best val=78.14%\n"
     ]
    },
    {
     "name": "stderr",
     "output_type": "stream",
     "text": [
      "                                                                 \r"
     ]
    },
    {
     "name": "stdout",
     "output_type": "stream",
     "text": [
      "[030/200] LR=0.09631 Train loss=0.9247 acc=81.49% | Val loss=0.9609 acc=79.64% | Best val=79.64%\n"
     ]
    },
    {
     "name": "stderr",
     "output_type": "stream",
     "text": [
      "                                                                 \r"
     ]
    },
    {
     "name": "stdout",
     "output_type": "stream",
     "text": [
      "[031/200] LR=0.09600 Train loss=0.9175 acc=82.00% | Val loss=1.0591 acc=75.66% | Best val=79.64%\n"
     ]
    },
    {
     "name": "stderr",
     "output_type": "stream",
     "text": [
      "                                                                 \r"
     ]
    },
    {
     "name": "stdout",
     "output_type": "stream",
     "text": [
      "[032/200] LR=0.09568 Train loss=0.9224 acc=81.62% | Val loss=1.0903 acc=74.18% | Best val=79.64%\n"
     ]
    },
    {
     "name": "stderr",
     "output_type": "stream",
     "text": [
      "                                                                 \r"
     ]
    },
    {
     "name": "stdout",
     "output_type": "stream",
     "text": [
      "[033/200] LR=0.09534 Train loss=0.9160 acc=81.73% | Val loss=1.0469 acc=75.34% | Best val=79.64%\n"
     ]
    },
    {
     "name": "stderr",
     "output_type": "stream",
     "text": [
      "                                                                 \r"
     ]
    },
    {
     "name": "stdout",
     "output_type": "stream",
     "text": [
      "[034/200] LR=0.09500 Train loss=0.9134 acc=82.08% | Val loss=1.1764 acc=72.18% | Best val=79.64%\n"
     ]
    },
    {
     "name": "stderr",
     "output_type": "stream",
     "text": [
      "                                                                 \r"
     ]
    },
    {
     "name": "stdout",
     "output_type": "stream",
     "text": [
      "[035/200] LR=0.09464 Train loss=0.9086 acc=82.24% | Val loss=1.0900 acc=73.92% | Best val=79.64%\n"
     ]
    },
    {
     "name": "stderr",
     "output_type": "stream",
     "text": [
      "                                                                 \r"
     ]
    },
    {
     "name": "stdout",
     "output_type": "stream",
     "text": [
      "[036/200] LR=0.09427 Train loss=0.9057 acc=82.32% | Val loss=1.0151 acc=76.98% | Best val=79.64%\n"
     ]
    },
    {
     "name": "stderr",
     "output_type": "stream",
     "text": [
      "                                                                 \r"
     ]
    },
    {
     "name": "stdout",
     "output_type": "stream",
     "text": [
      "[037/200] LR=0.09389 Train loss=0.9090 acc=82.18% | Val loss=1.0237 acc=77.38% | Best val=79.64%\n"
     ]
    },
    {
     "name": "stderr",
     "output_type": "stream",
     "text": [
      "                                                                 \r"
     ]
    },
    {
     "name": "stdout",
     "output_type": "stream",
     "text": [
      "[038/200] LR=0.09350 Train loss=0.9090 acc=82.03% | Val loss=0.9665 acc=79.28% | Best val=79.64%\n"
     ]
    },
    {
     "name": "stderr",
     "output_type": "stream",
     "text": [
      "                                                                 \r"
     ]
    },
    {
     "name": "stdout",
     "output_type": "stream",
     "text": [
      "[039/200] LR=0.09310 Train loss=0.9026 acc=82.45% | Val loss=0.9824 acc=79.28% | Best val=79.64%\n"
     ]
    },
    {
     "name": "stderr",
     "output_type": "stream",
     "text": [
      "                                                                 \r"
     ]
    },
    {
     "name": "stdout",
     "output_type": "stream",
     "text": [
      "[040/200] LR=0.09269 Train loss=0.9041 acc=82.42% | Val loss=0.9709 acc=79.28% | Best val=79.64%\n"
     ]
    },
    {
     "name": "stderr",
     "output_type": "stream",
     "text": [
      "                                                                 \r"
     ]
    },
    {
     "name": "stdout",
     "output_type": "stream",
     "text": [
      "[041/200] LR=0.09226 Train loss=0.9007 acc=82.70% | Val loss=1.0776 acc=74.84% | Best val=79.64%\n"
     ]
    },
    {
     "name": "stderr",
     "output_type": "stream",
     "text": [
      "                                                                 \r"
     ]
    },
    {
     "name": "stdout",
     "output_type": "stream",
     "text": [
      "[042/200] LR=0.09182 Train loss=0.8982 acc=82.61% | Val loss=0.9961 acc=78.70% | Best val=79.64%\n"
     ]
    },
    {
     "name": "stderr",
     "output_type": "stream",
     "text": [
      "                                                                 \r"
     ]
    },
    {
     "name": "stdout",
     "output_type": "stream",
     "text": [
      "[043/200] LR=0.09138 Train loss=0.8947 acc=82.67% | Val loss=1.0358 acc=77.14% | Best val=79.64%\n"
     ]
    },
    {
     "name": "stderr",
     "output_type": "stream",
     "text": [
      "                                                                 \r"
     ]
    },
    {
     "name": "stdout",
     "output_type": "stream",
     "text": [
      "[044/200] LR=0.09092 Train loss=0.8956 acc=82.79% | Val loss=1.0012 acc=77.90% | Best val=79.64%\n"
     ]
    },
    {
     "name": "stderr",
     "output_type": "stream",
     "text": [
      "                                                                 \r"
     ]
    },
    {
     "name": "stdout",
     "output_type": "stream",
     "text": [
      "[045/200] LR=0.09045 Train loss=0.8978 acc=82.50% | Val loss=1.1108 acc=74.02% | Best val=79.64%\n"
     ]
    },
    {
     "name": "stderr",
     "output_type": "stream",
     "text": [
      "                                                                 \r"
     ]
    },
    {
     "name": "stdout",
     "output_type": "stream",
     "text": [
      "[046/200] LR=0.08997 Train loss=0.8965 acc=82.70% | Val loss=1.0005 acc=77.48% | Best val=79.64%\n"
     ]
    },
    {
     "name": "stderr",
     "output_type": "stream",
     "text": [
      "                                                                 \r"
     ]
    },
    {
     "name": "stdout",
     "output_type": "stream",
     "text": [
      "[047/200] LR=0.08948 Train loss=0.8911 acc=83.06% | Val loss=0.9602 acc=79.88% | Best val=79.88%\n"
     ]
    },
    {
     "name": "stderr",
     "output_type": "stream",
     "text": [
      "                                                                 \r"
     ]
    },
    {
     "name": "stdout",
     "output_type": "stream",
     "text": [
      "[048/200] LR=0.08898 Train loss=0.8934 acc=82.81% | Val loss=0.9589 acc=80.16% | Best val=80.16%\n"
     ]
    },
    {
     "name": "stderr",
     "output_type": "stream",
     "text": [
      "                                                                 \r"
     ]
    },
    {
     "name": "stdout",
     "output_type": "stream",
     "text": [
      "[049/200] LR=0.08848 Train loss=0.8899 acc=83.02% | Val loss=0.9681 acc=79.28% | Best val=80.16%\n"
     ]
    },
    {
     "name": "stderr",
     "output_type": "stream",
     "text": [
      "                                                                 \r"
     ]
    },
    {
     "name": "stdout",
     "output_type": "stream",
     "text": [
      "[050/200] LR=0.08796 Train loss=0.8870 acc=83.20% | Val loss=0.9689 acc=79.12% | Best val=80.16%\n"
     ]
    },
    {
     "name": "stderr",
     "output_type": "stream",
     "text": [
      "                                                                 \r"
     ]
    },
    {
     "name": "stdout",
     "output_type": "stream",
     "text": [
      "[051/200] LR=0.08743 Train loss=0.8891 acc=83.12% | Val loss=1.0289 acc=77.22% | Best val=80.16%\n"
     ]
    },
    {
     "name": "stderr",
     "output_type": "stream",
     "text": [
      "                                                                 \r"
     ]
    },
    {
     "name": "stdout",
     "output_type": "stream",
     "text": [
      "[052/200] LR=0.08689 Train loss=0.8833 acc=83.29% | Val loss=0.9970 acc=78.16% | Best val=80.16%\n"
     ]
    },
    {
     "name": "stderr",
     "output_type": "stream",
     "text": [
      "                                                                 \r"
     ]
    },
    {
     "name": "stdout",
     "output_type": "stream",
     "text": [
      "[053/200] LR=0.08634 Train loss=0.8790 acc=83.35% | Val loss=1.0415 acc=77.28% | Best val=80.16%\n"
     ]
    },
    {
     "name": "stderr",
     "output_type": "stream",
     "text": [
      "                                                                 \r"
     ]
    },
    {
     "name": "stdout",
     "output_type": "stream",
     "text": [
      "[054/200] LR=0.08578 Train loss=0.8841 acc=83.18% | Val loss=0.9740 acc=79.48% | Best val=80.16%\n"
     ]
    },
    {
     "name": "stderr",
     "output_type": "stream",
     "text": [
      "                                                                 \r"
     ]
    },
    {
     "name": "stdout",
     "output_type": "stream",
     "text": [
      "[055/200] LR=0.08521 Train loss=0.8802 acc=83.41% | Val loss=1.0168 acc=77.88% | Best val=80.16%\n"
     ]
    },
    {
     "name": "stderr",
     "output_type": "stream",
     "text": [
      "                                                                 \r"
     ]
    },
    {
     "name": "stdout",
     "output_type": "stream",
     "text": [
      "[056/200] LR=0.08464 Train loss=0.8760 acc=83.47% | Val loss=1.0049 acc=78.20% | Best val=80.16%\n"
     ]
    },
    {
     "name": "stderr",
     "output_type": "stream",
     "text": [
      "                                                                 \r"
     ]
    },
    {
     "name": "stdout",
     "output_type": "stream",
     "text": [
      "[057/200] LR=0.08405 Train loss=0.8771 acc=83.62% | Val loss=0.9954 acc=78.38% | Best val=80.16%\n"
     ]
    },
    {
     "name": "stderr",
     "output_type": "stream",
     "text": [
      "                                                                 \r"
     ]
    },
    {
     "name": "stdout",
     "output_type": "stream",
     "text": [
      "[058/200] LR=0.08346 Train loss=0.8696 acc=83.94% | Val loss=0.9850 acc=78.64% | Best val=80.16%\n"
     ]
    },
    {
     "name": "stderr",
     "output_type": "stream",
     "text": [
      "                                                                 \r"
     ]
    },
    {
     "name": "stdout",
     "output_type": "stream",
     "text": [
      "[059/200] LR=0.08286 Train loss=0.8702 acc=83.90% | Val loss=0.9433 acc=80.38% | Best val=80.38%\n"
     ]
    },
    {
     "name": "stderr",
     "output_type": "stream",
     "text": [
      "                                                                 \r"
     ]
    },
    {
     "name": "stdout",
     "output_type": "stream",
     "text": [
      "[060/200] LR=0.08224 Train loss=0.8741 acc=83.76% | Val loss=1.0096 acc=77.62% | Best val=80.38%\n"
     ]
    },
    {
     "name": "stderr",
     "output_type": "stream",
     "text": [
      "                                                                 \r"
     ]
    },
    {
     "name": "stdout",
     "output_type": "stream",
     "text": [
      "[061/200] LR=0.08162 Train loss=0.8746 acc=83.62% | Val loss=0.9425 acc=80.26% | Best val=80.38%\n"
     ]
    },
    {
     "name": "stderr",
     "output_type": "stream",
     "text": [
      "                                                                 \r"
     ]
    },
    {
     "name": "stdout",
     "output_type": "stream",
     "text": [
      "[062/200] LR=0.08100 Train loss=0.8700 acc=83.87% | Val loss=1.0357 acc=76.18% | Best val=80.38%\n"
     ]
    },
    {
     "name": "stderr",
     "output_type": "stream",
     "text": [
      "                                                                 \r"
     ]
    },
    {
     "name": "stdout",
     "output_type": "stream",
     "text": [
      "[063/200] LR=0.08036 Train loss=0.8654 acc=84.03% | Val loss=0.9424 acc=80.56% | Best val=80.56%\n"
     ]
    },
    {
     "name": "stderr",
     "output_type": "stream",
     "text": [
      "                                                                 \r"
     ]
    },
    {
     "name": "stdout",
     "output_type": "stream",
     "text": [
      "[064/200] LR=0.07972 Train loss=0.8657 acc=84.03% | Val loss=0.9779 acc=79.64% | Best val=80.56%\n"
     ]
    },
    {
     "name": "stderr",
     "output_type": "stream",
     "text": [
      "                                                                 \r"
     ]
    },
    {
     "name": "stdout",
     "output_type": "stream",
     "text": [
      "[065/200] LR=0.07906 Train loss=0.8630 acc=84.26% | Val loss=1.0310 acc=76.92% | Best val=80.56%\n"
     ]
    },
    {
     "name": "stderr",
     "output_type": "stream",
     "text": [
      "                                                                 \r"
     ]
    },
    {
     "name": "stdout",
     "output_type": "stream",
     "text": [
      "[066/200] LR=0.07841 Train loss=0.8582 acc=84.56% | Val loss=0.9554 acc=79.80% | Best val=80.56%\n"
     ]
    },
    {
     "name": "stderr",
     "output_type": "stream",
     "text": [
      "                                                                 \r"
     ]
    },
    {
     "name": "stdout",
     "output_type": "stream",
     "text": [
      "[067/200] LR=0.07774 Train loss=0.8582 acc=84.61% | Val loss=1.0869 acc=74.90% | Best val=80.56%\n"
     ]
    },
    {
     "name": "stderr",
     "output_type": "stream",
     "text": [
      "                                                                 \r"
     ]
    },
    {
     "name": "stdout",
     "output_type": "stream",
     "text": [
      "[068/200] LR=0.07707 Train loss=0.8588 acc=84.50% | Val loss=0.9445 acc=80.40% | Best val=80.56%\n"
     ]
    },
    {
     "name": "stderr",
     "output_type": "stream",
     "text": [
      "                                                                 \r"
     ]
    },
    {
     "name": "stdout",
     "output_type": "stream",
     "text": [
      "[069/200] LR=0.07638 Train loss=0.8543 acc=84.50% | Val loss=0.9292 acc=81.72% | Best val=81.72%\n"
     ]
    },
    {
     "name": "stderr",
     "output_type": "stream",
     "text": [
      "                                                                 \r"
     ]
    },
    {
     "name": "stdout",
     "output_type": "stream",
     "text": [
      "[070/200] LR=0.07570 Train loss=0.8553 acc=84.39% | Val loss=0.9559 acc=80.38% | Best val=81.72%\n"
     ]
    },
    {
     "name": "stderr",
     "output_type": "stream",
     "text": [
      "                                                                 \r"
     ]
    },
    {
     "name": "stdout",
     "output_type": "stream",
     "text": [
      "[071/200] LR=0.07500 Train loss=0.8545 acc=84.57% | Val loss=0.9589 acc=79.60% | Best val=81.72%\n"
     ]
    },
    {
     "name": "stderr",
     "output_type": "stream",
     "text": [
      "                                                                 \r"
     ]
    },
    {
     "name": "stdout",
     "output_type": "stream",
     "text": [
      "[072/200] LR=0.07430 Train loss=0.8523 acc=84.53% | Val loss=0.9577 acc=80.18% | Best val=81.72%\n"
     ]
    },
    {
     "name": "stderr",
     "output_type": "stream",
     "text": [
      "                                                                 \r"
     ]
    },
    {
     "name": "stdout",
     "output_type": "stream",
     "text": [
      "[073/200] LR=0.07359 Train loss=0.8486 acc=84.89% | Val loss=0.9387 acc=80.94% | Best val=81.72%\n"
     ]
    },
    {
     "name": "stderr",
     "output_type": "stream",
     "text": [
      "                                                                 \r"
     ]
    },
    {
     "name": "stdout",
     "output_type": "stream",
     "text": [
      "[074/200] LR=0.07288 Train loss=0.8530 acc=84.60% | Val loss=0.9471 acc=80.28% | Best val=81.72%\n"
     ]
    },
    {
     "name": "stderr",
     "output_type": "stream",
     "text": [
      "                                                                 \r"
     ]
    },
    {
     "name": "stdout",
     "output_type": "stream",
     "text": [
      "[075/200] LR=0.07216 Train loss=0.8484 acc=84.84% | Val loss=0.9459 acc=80.62% | Best val=81.72%\n"
     ]
    },
    {
     "name": "stderr",
     "output_type": "stream",
     "text": [
      "                                                                 \r"
     ]
    },
    {
     "name": "stdout",
     "output_type": "stream",
     "text": [
      "[076/200] LR=0.07144 Train loss=0.8482 acc=84.98% | Val loss=0.9758 acc=78.94% | Best val=81.72%\n"
     ]
    },
    {
     "name": "stderr",
     "output_type": "stream",
     "text": [
      "                                                                 \r"
     ]
    },
    {
     "name": "stdout",
     "output_type": "stream",
     "text": [
      "[077/200] LR=0.07071 Train loss=0.8452 acc=85.09% | Val loss=1.0113 acc=78.68% | Best val=81.72%\n"
     ]
    },
    {
     "name": "stderr",
     "output_type": "stream",
     "text": [
      "                                                                 \r"
     ]
    },
    {
     "name": "stdout",
     "output_type": "stream",
     "text": [
      "[078/200] LR=0.06997 Train loss=0.8414 acc=85.05% | Val loss=0.9232 acc=80.90% | Best val=81.72%\n"
     ]
    },
    {
     "name": "stderr",
     "output_type": "stream",
     "text": [
      "                                                                 \r"
     ]
    },
    {
     "name": "stdout",
     "output_type": "stream",
     "text": [
      "[079/200] LR=0.06923 Train loss=0.8398 acc=85.33% | Val loss=0.9428 acc=80.42% | Best val=81.72%\n"
     ]
    },
    {
     "name": "stderr",
     "output_type": "stream",
     "text": [
      "                                                                 \r"
     ]
    },
    {
     "name": "stdout",
     "output_type": "stream",
     "text": [
      "[080/200] LR=0.06848 Train loss=0.8397 acc=85.13% | Val loss=0.9258 acc=81.36% | Best val=81.72%\n"
     ]
    },
    {
     "name": "stderr",
     "output_type": "stream",
     "text": [
      "                                                                 \r"
     ]
    },
    {
     "name": "stdout",
     "output_type": "stream",
     "text": [
      "[081/200] LR=0.06773 Train loss=0.8370 acc=85.30% | Val loss=0.9234 acc=81.60% | Best val=81.72%\n"
     ]
    },
    {
     "name": "stderr",
     "output_type": "stream",
     "text": [
      "                                                                     \r"
     ]
    },
    {
     "name": "stdout",
     "output_type": "stream",
     "text": [
      "[082/200] LR=0.06698 Train loss=0.8355 acc=85.41% | Val loss=0.9402 acc=80.86% | Best val=81.72%\n"
     ]
    },
    {
     "name": "stderr",
     "output_type": "stream",
     "text": [
      "                                                                 \r"
     ]
    },
    {
     "name": "stdout",
     "output_type": "stream",
     "text": [
      "[083/200] LR=0.06622 Train loss=0.8281 acc=85.85% | Val loss=0.9003 acc=82.60% | Best val=82.60%\n"
     ]
    },
    {
     "name": "stderr",
     "output_type": "stream",
     "text": [
      "                                                                 \r"
     ]
    },
    {
     "name": "stdout",
     "output_type": "stream",
     "text": [
      "[084/200] LR=0.06545 Train loss=0.8305 acc=85.55% | Val loss=0.9096 acc=81.72% | Best val=82.60%\n"
     ]
    },
    {
     "name": "stderr",
     "output_type": "stream",
     "text": [
      "                                                                 \r"
     ]
    },
    {
     "name": "stdout",
     "output_type": "stream",
     "text": [
      "[085/200] LR=0.06469 Train loss=0.8271 acc=85.83% | Val loss=0.9230 acc=82.12% | Best val=82.60%\n"
     ]
    },
    {
     "name": "stderr",
     "output_type": "stream",
     "text": [
      "                                                                 \r"
     ]
    },
    {
     "name": "stdout",
     "output_type": "stream",
     "text": [
      "[086/200] LR=0.06391 Train loss=0.8260 acc=85.84% | Val loss=0.9016 acc=82.58% | Best val=82.60%\n"
     ]
    },
    {
     "name": "stderr",
     "output_type": "stream",
     "text": [
      "                                                                 \r"
     ]
    },
    {
     "name": "stdout",
     "output_type": "stream",
     "text": [
      "[087/200] LR=0.06314 Train loss=0.8215 acc=86.06% | Val loss=0.9326 acc=81.44% | Best val=82.60%\n"
     ]
    },
    {
     "name": "stderr",
     "output_type": "stream",
     "text": [
      "                                                                 \r"
     ]
    },
    {
     "name": "stdout",
     "output_type": "stream",
     "text": [
      "[088/200] LR=0.06236 Train loss=0.8199 acc=86.15% | Val loss=0.9085 acc=81.34% | Best val=82.60%\n"
     ]
    },
    {
     "name": "stderr",
     "output_type": "stream",
     "text": [
      "                                                                 \r"
     ]
    },
    {
     "name": "stdout",
     "output_type": "stream",
     "text": [
      "[089/200] LR=0.06158 Train loss=0.8206 acc=86.03% | Val loss=0.8859 acc=83.08% | Best val=83.08%\n"
     ]
    },
    {
     "name": "stderr",
     "output_type": "stream",
     "text": [
      "                                                                 \r"
     ]
    },
    {
     "name": "stdout",
     "output_type": "stream",
     "text": [
      "[090/200] LR=0.06079 Train loss=0.8175 acc=86.24% | Val loss=0.9654 acc=78.92% | Best val=83.08%\n"
     ]
    },
    {
     "name": "stderr",
     "output_type": "stream",
     "text": [
      "                                                                 \r"
     ]
    },
    {
     "name": "stdout",
     "output_type": "stream",
     "text": [
      "[091/200] LR=0.06001 Train loss=0.8190 acc=86.14% | Val loss=0.9293 acc=81.64% | Best val=83.08%\n"
     ]
    },
    {
     "name": "stderr",
     "output_type": "stream",
     "text": [
      "                                                                 \r"
     ]
    },
    {
     "name": "stdout",
     "output_type": "stream",
     "text": [
      "[092/200] LR=0.05921 Train loss=0.8112 acc=86.63% | Val loss=0.8895 acc=83.22% | Best val=83.22%\n"
     ]
    },
    {
     "name": "stderr",
     "output_type": "stream",
     "text": [
      "                                                                 \r"
     ]
    },
    {
     "name": "stdout",
     "output_type": "stream",
     "text": [
      "[093/200] LR=0.05842 Train loss=0.8141 acc=86.29% | Val loss=0.8763 acc=83.38% | Best val=83.38%\n"
     ]
    },
    {
     "name": "stderr",
     "output_type": "stream",
     "text": [
      "                                                                 \r"
     ]
    },
    {
     "name": "stdout",
     "output_type": "stream",
     "text": [
      "[094/200] LR=0.05763 Train loss=0.8090 acc=86.60% | Val loss=0.9659 acc=79.80% | Best val=83.38%\n"
     ]
    },
    {
     "name": "stderr",
     "output_type": "stream",
     "text": [
      "                                                                 \r"
     ]
    },
    {
     "name": "stdout",
     "output_type": "stream",
     "text": [
      "[095/200] LR=0.05683 Train loss=0.8113 acc=86.54% | Val loss=0.8890 acc=82.82% | Best val=83.38%\n"
     ]
    },
    {
     "name": "stderr",
     "output_type": "stream",
     "text": [
      "                                                                   \r"
     ]
    },
    {
     "name": "stdout",
     "output_type": "stream",
     "text": [
      "[096/200] LR=0.05603 Train loss=0.8033 acc=86.78% | Val loss=0.8636 acc=84.32% | Best val=84.32%\n"
     ]
    },
    {
     "name": "stderr",
     "output_type": "stream",
     "text": [
      "                                                                 \r"
     ]
    },
    {
     "name": "stdout",
     "output_type": "stream",
     "text": [
      "[097/200] LR=0.05523 Train loss=0.8042 acc=86.86% | Val loss=1.0058 acc=77.50% | Best val=84.32%\n"
     ]
    },
    {
     "name": "stderr",
     "output_type": "stream",
     "text": [
      "                                                                 \r"
     ]
    },
    {
     "name": "stdout",
     "output_type": "stream",
     "text": [
      "[098/200] LR=0.05443 Train loss=0.8078 acc=86.70% | Val loss=0.9525 acc=80.36% | Best val=84.32%\n"
     ]
    },
    {
     "name": "stderr",
     "output_type": "stream",
     "text": [
      "                                                                 \r"
     ]
    },
    {
     "name": "stdout",
     "output_type": "stream",
     "text": [
      "[099/200] LR=0.05363 Train loss=0.8007 acc=86.95% | Val loss=0.9161 acc=81.90% | Best val=84.32%\n"
     ]
    },
    {
     "name": "stderr",
     "output_type": "stream",
     "text": [
      "                                                                  \r"
     ]
    },
    {
     "name": "stdout",
     "output_type": "stream",
     "text": [
      "[100/200] LR=0.05282 Train loss=0.8003 acc=86.93% | Val loss=0.8813 acc=83.04% | Best val=84.32%\n"
     ]
    },
    {
     "name": "stderr",
     "output_type": "stream",
     "text": [
      "                                                                  \r"
     ]
    },
    {
     "name": "stdout",
     "output_type": "stream",
     "text": [
      "[101/200] LR=0.05202 Train loss=0.7923 acc=87.33% | Val loss=0.9238 acc=81.18% | Best val=84.32%\n"
     ]
    },
    {
     "name": "stderr",
     "output_type": "stream",
     "text": [
      "                                                                  \r"
     ]
    },
    {
     "name": "stdout",
     "output_type": "stream",
     "text": [
      "[102/200] LR=0.05121 Train loss=0.7909 acc=87.29% | Val loss=0.8896 acc=83.54% | Best val=84.32%\n"
     ]
    },
    {
     "name": "stderr",
     "output_type": "stream",
     "text": [
      "                                                                  \r"
     ]
    },
    {
     "name": "stdout",
     "output_type": "stream",
     "text": [
      "[103/200] LR=0.05041 Train loss=0.7892 acc=87.41% | Val loss=0.8973 acc=82.82% | Best val=84.32%\n"
     ]
    },
    {
     "name": "stderr",
     "output_type": "stream",
     "text": [
      "                                                                  \r"
     ]
    },
    {
     "name": "stdout",
     "output_type": "stream",
     "text": [
      "[104/200] LR=0.04960 Train loss=0.7865 acc=87.57% | Val loss=0.8973 acc=83.42% | Best val=84.32%\n"
     ]
    },
    {
     "name": "stderr",
     "output_type": "stream",
     "text": [
      "                                                                  \r"
     ]
    },
    {
     "name": "stdout",
     "output_type": "stream",
     "text": [
      "[105/200] LR=0.04880 Train loss=0.7859 acc=87.45% | Val loss=0.8587 acc=84.18% | Best val=84.32%\n"
     ]
    },
    {
     "name": "stderr",
     "output_type": "stream",
     "text": [
      "                                                                  \r"
     ]
    },
    {
     "name": "stdout",
     "output_type": "stream",
     "text": [
      "[106/200] LR=0.04799 Train loss=0.7805 acc=87.92% | Val loss=0.8883 acc=83.10% | Best val=84.32%\n"
     ]
    },
    {
     "name": "stderr",
     "output_type": "stream",
     "text": [
      "                                                                  \r"
     ]
    },
    {
     "name": "stdout",
     "output_type": "stream",
     "text": [
      "[107/200] LR=0.04719 Train loss=0.7839 acc=87.70% | Val loss=0.9572 acc=80.40% | Best val=84.32%\n"
     ]
    },
    {
     "name": "stderr",
     "output_type": "stream",
     "text": [
      "                                                                  \r"
     ]
    },
    {
     "name": "stdout",
     "output_type": "stream",
     "text": [
      "[108/200] LR=0.04638 Train loss=0.7822 acc=87.71% | Val loss=0.8970 acc=83.32% | Best val=84.32%\n"
     ]
    },
    {
     "name": "stderr",
     "output_type": "stream",
     "text": [
      "                                                                  \r"
     ]
    },
    {
     "name": "stdout",
     "output_type": "stream",
     "text": [
      "[109/200] LR=0.04558 Train loss=0.7804 acc=87.86% | Val loss=0.9226 acc=82.02% | Best val=84.32%\n"
     ]
    },
    {
     "name": "stderr",
     "output_type": "stream",
     "text": [
      "                                                                  \r"
     ]
    },
    {
     "name": "stdout",
     "output_type": "stream",
     "text": [
      "[110/200] LR=0.04478 Train loss=0.7735 acc=88.24% | Val loss=0.8375 acc=84.84% | Best val=84.84%\n"
     ]
    },
    {
     "name": "stderr",
     "output_type": "stream",
     "text": [
      "                                                                  \r"
     ]
    },
    {
     "name": "stdout",
     "output_type": "stream",
     "text": [
      "[111/200] LR=0.04398 Train loss=0.7744 acc=88.17% | Val loss=0.9751 acc=79.58% | Best val=84.84%\n"
     ]
    },
    {
     "name": "stderr",
     "output_type": "stream",
     "text": [
      "                                                                  \r"
     ]
    },
    {
     "name": "stdout",
     "output_type": "stream",
     "text": [
      "[112/200] LR=0.04318 Train loss=0.7733 acc=87.98% | Val loss=0.9481 acc=80.52% | Best val=84.84%\n"
     ]
    },
    {
     "name": "stderr",
     "output_type": "stream",
     "text": [
      "                                                                  \r"
     ]
    },
    {
     "name": "stdout",
     "output_type": "stream",
     "text": [
      "[113/200] LR=0.04238 Train loss=0.7694 acc=88.14% | Val loss=0.8789 acc=83.28% | Best val=84.84%\n"
     ]
    },
    {
     "name": "stderr",
     "output_type": "stream",
     "text": [
      "                                                                  \r"
     ]
    },
    {
     "name": "stdout",
     "output_type": "stream",
     "text": [
      "[114/200] LR=0.04159 Train loss=0.7597 acc=88.72% | Val loss=0.8700 acc=84.28% | Best val=84.84%\n"
     ]
    },
    {
     "name": "stderr",
     "output_type": "stream",
     "text": [
      "                                                                  \r"
     ]
    },
    {
     "name": "stdout",
     "output_type": "stream",
     "text": [
      "[115/200] LR=0.04080 Train loss=0.7643 acc=88.41% | Val loss=0.9009 acc=82.02% | Best val=84.84%\n"
     ]
    },
    {
     "name": "stderr",
     "output_type": "stream",
     "text": [
      "                                                                  \r"
     ]
    },
    {
     "name": "stdout",
     "output_type": "stream",
     "text": [
      "[116/200] LR=0.04000 Train loss=0.7593 acc=88.65% | Val loss=0.9198 acc=82.22% | Best val=84.84%\n"
     ]
    },
    {
     "name": "stderr",
     "output_type": "stream",
     "text": [
      "                                                                  \r"
     ]
    },
    {
     "name": "stdout",
     "output_type": "stream",
     "text": [
      "[117/200] LR=0.03922 Train loss=0.7595 acc=88.68% | Val loss=0.8904 acc=82.92% | Best val=84.84%\n"
     ]
    },
    {
     "name": "stderr",
     "output_type": "stream",
     "text": [
      "                                                                  \r"
     ]
    },
    {
     "name": "stdout",
     "output_type": "stream",
     "text": [
      "[118/200] LR=0.03843 Train loss=0.7554 acc=88.83% | Val loss=0.8689 acc=84.66% | Best val=84.84%\n"
     ]
    },
    {
     "name": "stderr",
     "output_type": "stream",
     "text": [
      "                                                                  \r"
     ]
    },
    {
     "name": "stdout",
     "output_type": "stream",
     "text": [
      "[119/200] LR=0.03765 Train loss=0.7488 acc=89.22% | Val loss=0.9377 acc=81.64% | Best val=84.84%\n"
     ]
    },
    {
     "name": "stderr",
     "output_type": "stream",
     "text": [
      "                                                                  \r"
     ]
    },
    {
     "name": "stdout",
     "output_type": "stream",
     "text": [
      "[120/200] LR=0.03687 Train loss=0.7503 acc=89.10% | Val loss=0.8705 acc=83.64% | Best val=84.84%\n"
     ]
    },
    {
     "name": "stderr",
     "output_type": "stream",
     "text": [
      "                                                                  \r"
     ]
    },
    {
     "name": "stdout",
     "output_type": "stream",
     "text": [
      "[121/200] LR=0.03610 Train loss=0.7504 acc=89.13% | Val loss=0.8606 acc=84.08% | Best val=84.84%\n"
     ]
    },
    {
     "name": "stderr",
     "output_type": "stream",
     "text": [
      "                                                                  \r"
     ]
    },
    {
     "name": "stdout",
     "output_type": "stream",
     "text": [
      "[122/200] LR=0.03532 Train loss=0.7450 acc=89.42% | Val loss=0.8887 acc=83.46% | Best val=84.84%\n"
     ]
    },
    {
     "name": "stderr",
     "output_type": "stream",
     "text": [
      "                                                                  \r"
     ]
    },
    {
     "name": "stdout",
     "output_type": "stream",
     "text": [
      "[123/200] LR=0.03456 Train loss=0.7421 acc=89.36% | Val loss=0.8625 acc=84.02% | Best val=84.84%\n"
     ]
    },
    {
     "name": "stderr",
     "output_type": "stream",
     "text": [
      "                                                                  \r"
     ]
    },
    {
     "name": "stdout",
     "output_type": "stream",
     "text": [
      "[124/200] LR=0.03379 Train loss=0.7431 acc=89.44% | Val loss=0.8528 acc=84.84% | Best val=84.84%\n"
     ]
    },
    {
     "name": "stderr",
     "output_type": "stream",
     "text": [
      "                                                                  \r"
     ]
    },
    {
     "name": "stdout",
     "output_type": "stream",
     "text": [
      "[125/200] LR=0.03303 Train loss=0.7400 acc=89.50% | Val loss=0.8502 acc=84.66% | Best val=84.84%\n"
     ]
    },
    {
     "name": "stderr",
     "output_type": "stream",
     "text": [
      "                                                                  \r"
     ]
    },
    {
     "name": "stdout",
     "output_type": "stream",
     "text": [
      "[126/200] LR=0.03228 Train loss=0.7316 acc=90.01% | Val loss=0.8517 acc=84.44% | Best val=84.84%\n"
     ]
    },
    {
     "name": "stderr",
     "output_type": "stream",
     "text": [
      "                                                                  \r"
     ]
    },
    {
     "name": "stdout",
     "output_type": "stream",
     "text": [
      "[127/200] LR=0.03153 Train loss=0.7361 acc=89.84% | Val loss=0.8203 acc=86.00% | Best val=86.00%\n"
     ]
    },
    {
     "name": "stderr",
     "output_type": "stream",
     "text": [
      "                                                                  \r"
     ]
    },
    {
     "name": "stdout",
     "output_type": "stream",
     "text": [
      "[128/200] LR=0.03078 Train loss=0.7253 acc=90.28% | Val loss=0.8472 acc=85.06% | Best val=86.00%\n"
     ]
    },
    {
     "name": "stderr",
     "output_type": "stream",
     "text": [
      "                                                                  \r"
     ]
    },
    {
     "name": "stdout",
     "output_type": "stream",
     "text": [
      "[129/200] LR=0.03004 Train loss=0.7230 acc=90.42% | Val loss=0.8226 acc=86.02% | Best val=86.02%\n"
     ]
    },
    {
     "name": "stderr",
     "output_type": "stream",
     "text": [
      "                                                                  \r"
     ]
    },
    {
     "name": "stdout",
     "output_type": "stream",
     "text": [
      "[130/200] LR=0.02930 Train loss=0.7191 acc=90.49% | Val loss=0.8376 acc=85.30% | Best val=86.02%\n"
     ]
    },
    {
     "name": "stderr",
     "output_type": "stream",
     "text": [
      "                                                                  \r"
     ]
    },
    {
     "name": "stdout",
     "output_type": "stream",
     "text": [
      "[131/200] LR=0.02857 Train loss=0.7195 acc=90.48% | Val loss=0.8184 acc=86.42% | Best val=86.42%\n"
     ]
    },
    {
     "name": "stderr",
     "output_type": "stream",
     "text": [
      "                                                                  \r"
     ]
    },
    {
     "name": "stdout",
     "output_type": "stream",
     "text": [
      "[132/200] LR=0.02785 Train loss=0.7140 acc=90.75% | Val loss=0.8276 acc=85.64% | Best val=86.42%\n"
     ]
    },
    {
     "name": "stderr",
     "output_type": "stream",
     "text": [
      "                                                                  \r"
     ]
    },
    {
     "name": "stdout",
     "output_type": "stream",
     "text": [
      "[133/200] LR=0.02713 Train loss=0.7117 acc=90.86% | Val loss=0.8570 acc=84.48% | Best val=86.42%\n"
     ]
    },
    {
     "name": "stderr",
     "output_type": "stream",
     "text": [
      "                                                                  \r"
     ]
    },
    {
     "name": "stdout",
     "output_type": "stream",
     "text": [
      "[134/200] LR=0.02642 Train loss=0.7104 acc=90.81% | Val loss=0.8217 acc=85.88% | Best val=86.42%\n"
     ]
    },
    {
     "name": "stderr",
     "output_type": "stream",
     "text": [
      "                                                                  \r"
     ]
    },
    {
     "name": "stdout",
     "output_type": "stream",
     "text": [
      "[135/200] LR=0.02571 Train loss=0.7100 acc=90.92% | Val loss=0.8203 acc=86.04% | Best val=86.42%\n"
     ]
    },
    {
     "name": "stderr",
     "output_type": "stream",
     "text": [
      "                                                                  \r"
     ]
    },
    {
     "name": "stdout",
     "output_type": "stream",
     "text": [
      "[136/200] LR=0.02501 Train loss=0.7107 acc=90.88% | Val loss=0.7891 acc=87.28% | Best val=87.28%\n"
     ]
    },
    {
     "name": "stderr",
     "output_type": "stream",
     "text": [
      "                                                                  \r"
     ]
    },
    {
     "name": "stdout",
     "output_type": "stream",
     "text": [
      "[137/200] LR=0.02431 Train loss=0.7039 acc=91.17% | Val loss=0.8377 acc=85.56% | Best val=87.28%\n"
     ]
    },
    {
     "name": "stderr",
     "output_type": "stream",
     "text": [
      "                                                                  \r"
     ]
    },
    {
     "name": "stdout",
     "output_type": "stream",
     "text": [
      "[138/200] LR=0.02363 Train loss=0.6974 acc=91.49% | Val loss=0.8219 acc=85.86% | Best val=87.28%\n"
     ]
    },
    {
     "name": "stderr",
     "output_type": "stream",
     "text": [
      "                                                                  \r"
     ]
    },
    {
     "name": "stdout",
     "output_type": "stream",
     "text": [
      "[139/200] LR=0.02294 Train loss=0.6946 acc=91.56% | Val loss=0.7992 acc=86.86% | Best val=87.28%\n"
     ]
    },
    {
     "name": "stderr",
     "output_type": "stream",
     "text": [
      "                                                                  \r"
     ]
    },
    {
     "name": "stdout",
     "output_type": "stream",
     "text": [
      "[140/200] LR=0.02227 Train loss=0.6880 acc=91.84% | Val loss=0.8140 acc=86.24% | Best val=87.28%\n"
     ]
    },
    {
     "name": "stderr",
     "output_type": "stream",
     "text": [
      "                                                                  \r"
     ]
    },
    {
     "name": "stdout",
     "output_type": "stream",
     "text": [
      "[141/200] LR=0.02160 Train loss=0.6924 acc=91.65% | Val loss=0.8115 acc=86.78% | Best val=87.28%\n"
     ]
    },
    {
     "name": "stderr",
     "output_type": "stream",
     "text": [
      "                                                                  \r"
     ]
    },
    {
     "name": "stdout",
     "output_type": "stream",
     "text": [
      "[142/200] LR=0.02095 Train loss=0.6851 acc=91.97% | Val loss=0.7871 acc=87.58% | Best val=87.58%\n"
     ]
    },
    {
     "name": "stderr",
     "output_type": "stream",
     "text": [
      "                                                                  \r"
     ]
    },
    {
     "name": "stdout",
     "output_type": "stream",
     "text": [
      "[143/200] LR=0.02029 Train loss=0.6867 acc=91.90% | Val loss=0.8105 acc=86.22% | Best val=87.58%\n"
     ]
    },
    {
     "name": "stderr",
     "output_type": "stream",
     "text": [
      "                                                                  \r"
     ]
    },
    {
     "name": "stdout",
     "output_type": "stream",
     "text": [
      "[144/200] LR=0.01965 Train loss=0.6784 acc=92.30% | Val loss=0.7871 acc=87.76% | Best val=87.76%\n"
     ]
    },
    {
     "name": "stderr",
     "output_type": "stream",
     "text": [
      "                                                                  \r"
     ]
    },
    {
     "name": "stdout",
     "output_type": "stream",
     "text": [
      "[145/200] LR=0.01901 Train loss=0.6780 acc=92.24% | Val loss=0.7904 acc=87.32% | Best val=87.76%\n"
     ]
    },
    {
     "name": "stderr",
     "output_type": "stream",
     "text": [
      "                                                                  \r"
     ]
    },
    {
     "name": "stdout",
     "output_type": "stream",
     "text": [
      "[146/200] LR=0.01839 Train loss=0.6738 acc=92.37% | Val loss=0.8095 acc=86.48% | Best val=87.76%\n"
     ]
    },
    {
     "name": "stderr",
     "output_type": "stream",
     "text": [
      "                                                                  \r"
     ]
    },
    {
     "name": "stdout",
     "output_type": "stream",
     "text": [
      "[147/200] LR=0.01777 Train loss=0.6720 acc=92.57% | Val loss=0.7875 acc=87.42% | Best val=87.76%\n"
     ]
    },
    {
     "name": "stderr",
     "output_type": "stream",
     "text": [
      "                                                                  \r"
     ]
    },
    {
     "name": "stdout",
     "output_type": "stream",
     "text": [
      "[148/200] LR=0.01715 Train loss=0.6622 acc=93.00% | Val loss=0.7818 acc=88.18% | Best val=88.18%\n"
     ]
    },
    {
     "name": "stderr",
     "output_type": "stream",
     "text": [
      "                                                                  \r"
     ]
    },
    {
     "name": "stdout",
     "output_type": "stream",
     "text": [
      "[149/200] LR=0.01655 Train loss=0.6642 acc=92.91% | Val loss=0.7693 acc=88.30% | Best val=88.30%\n"
     ]
    },
    {
     "name": "stderr",
     "output_type": "stream",
     "text": [
      "                                                                  \r"
     ]
    },
    {
     "name": "stdout",
     "output_type": "stream",
     "text": [
      "[150/200] LR=0.01596 Train loss=0.6603 acc=93.03% | Val loss=0.7752 acc=88.08% | Best val=88.30%\n"
     ]
    },
    {
     "name": "stderr",
     "output_type": "stream",
     "text": [
      "                                                                  \r"
     ]
    },
    {
     "name": "stdout",
     "output_type": "stream",
     "text": [
      "[151/200] LR=0.01537 Train loss=0.6576 acc=93.16% | Val loss=0.7893 acc=87.24% | Best val=88.30%\n"
     ]
    },
    {
     "name": "stderr",
     "output_type": "stream",
     "text": [
      "                                                                  \r"
     ]
    },
    {
     "name": "stdout",
     "output_type": "stream",
     "text": [
      "[152/200] LR=0.01480 Train loss=0.6541 acc=93.32% | Val loss=0.7668 acc=88.44% | Best val=88.44%\n"
     ]
    },
    {
     "name": "stderr",
     "output_type": "stream",
     "text": [
      "                                                                  \r"
     ]
    },
    {
     "name": "stdout",
     "output_type": "stream",
     "text": [
      "[153/200] LR=0.01423 Train loss=0.6458 acc=93.73% | Val loss=0.7625 acc=88.58% | Best val=88.58%\n"
     ]
    },
    {
     "name": "stderr",
     "output_type": "stream",
     "text": [
      "                                                                  \r"
     ]
    },
    {
     "name": "stdout",
     "output_type": "stream",
     "text": [
      "[154/200] LR=0.01367 Train loss=0.6453 acc=93.63% | Val loss=0.7775 acc=88.30% | Best val=88.58%\n"
     ]
    },
    {
     "name": "stderr",
     "output_type": "stream",
     "text": [
      "                                                                  \r"
     ]
    },
    {
     "name": "stdout",
     "output_type": "stream",
     "text": [
      "[155/200] LR=0.01312 Train loss=0.6453 acc=93.73% | Val loss=0.7565 acc=88.82% | Best val=88.82%\n"
     ]
    },
    {
     "name": "stderr",
     "output_type": "stream",
     "text": [
      "                                                                  \r"
     ]
    },
    {
     "name": "stdout",
     "output_type": "stream",
     "text": [
      "[156/200] LR=0.01258 Train loss=0.6369 acc=94.10% | Val loss=0.7398 acc=89.58% | Best val=89.58%\n"
     ]
    },
    {
     "name": "stderr",
     "output_type": "stream",
     "text": [
      "                                                                  \r"
     ]
    },
    {
     "name": "stdout",
     "output_type": "stream",
     "text": [
      "[157/200] LR=0.01205 Train loss=0.6363 acc=94.20% | Val loss=0.7439 acc=89.92% | Best val=89.92%\n"
     ]
    },
    {
     "name": "stderr",
     "output_type": "stream",
     "text": [
      "                                                                  \r"
     ]
    },
    {
     "name": "stdout",
     "output_type": "stream",
     "text": [
      "[158/200] LR=0.01153 Train loss=0.6342 acc=94.23% | Val loss=0.7770 acc=88.50% | Best val=89.92%\n"
     ]
    },
    {
     "name": "stderr",
     "output_type": "stream",
     "text": [
      "                                                                  \r"
     ]
    },
    {
     "name": "stdout",
     "output_type": "stream",
     "text": [
      "[159/200] LR=0.01103 Train loss=0.6332 acc=94.22% | Val loss=0.7531 acc=88.76% | Best val=89.92%\n"
     ]
    },
    {
     "name": "stderr",
     "output_type": "stream",
     "text": [
      "                                                                  \r"
     ]
    },
    {
     "name": "stdout",
     "output_type": "stream",
     "text": [
      "[160/200] LR=0.01053 Train loss=0.6269 acc=94.53% | Val loss=0.7376 acc=89.62% | Best val=89.92%\n"
     ]
    },
    {
     "name": "stderr",
     "output_type": "stream",
     "text": [
      "                                                                  \r"
     ]
    },
    {
     "name": "stdout",
     "output_type": "stream",
     "text": [
      "[161/200] LR=0.01004 Train loss=0.6210 acc=94.77% | Val loss=0.7309 acc=90.24% | Best val=90.24%\n"
     ]
    },
    {
     "name": "stderr",
     "output_type": "stream",
     "text": [
      "                                                                  \r"
     ]
    },
    {
     "name": "stdout",
     "output_type": "stream",
     "text": [
      "[162/200] LR=0.00956 Train loss=0.6225 acc=94.76% | Val loss=0.7382 acc=90.02% | Best val=90.24%\n"
     ]
    },
    {
     "name": "stderr",
     "output_type": "stream",
     "text": [
      "                                                                  \r"
     ]
    },
    {
     "name": "stdout",
     "output_type": "stream",
     "text": [
      "[163/200] LR=0.00909 Train loss=0.6172 acc=94.96% | Val loss=0.7488 acc=89.76% | Best val=90.24%\n"
     ]
    },
    {
     "name": "stderr",
     "output_type": "stream",
     "text": [
      "                                                                  \r"
     ]
    },
    {
     "name": "stdout",
     "output_type": "stream",
     "text": [
      "[164/200] LR=0.00863 Train loss=0.6143 acc=95.14% | Val loss=0.7372 acc=89.74% | Best val=90.24%\n"
     ]
    },
    {
     "name": "stderr",
     "output_type": "stream",
     "text": [
      "                                                                  \r"
     ]
    },
    {
     "name": "stdout",
     "output_type": "stream",
     "text": [
      "[165/200] LR=0.00819 Train loss=0.6123 acc=95.11% | Val loss=0.7287 acc=90.18% | Best val=90.24%\n"
     ]
    },
    {
     "name": "stderr",
     "output_type": "stream",
     "text": [
      "                                                                  \r"
     ]
    },
    {
     "name": "stdout",
     "output_type": "stream",
     "text": [
      "[166/200] LR=0.00775 Train loss=0.6093 acc=95.29% | Val loss=0.7416 acc=89.70% | Best val=90.24%\n"
     ]
    },
    {
     "name": "stderr",
     "output_type": "stream",
     "text": [
      "                                                                  \r"
     ]
    },
    {
     "name": "stdout",
     "output_type": "stream",
     "text": [
      "[167/200] LR=0.00732 Train loss=0.6080 acc=95.36% | Val loss=0.7261 acc=90.38% | Best val=90.38%\n"
     ]
    },
    {
     "name": "stderr",
     "output_type": "stream",
     "text": [
      "                                                                  \r"
     ]
    },
    {
     "name": "stdout",
     "output_type": "stream",
     "text": [
      "[168/200] LR=0.00691 Train loss=0.6042 acc=95.57% | Val loss=0.7216 acc=90.70% | Best val=90.70%\n"
     ]
    },
    {
     "name": "stderr",
     "output_type": "stream",
     "text": [
      "                                                                     \r"
     ]
    },
    {
     "name": "stdout",
     "output_type": "stream",
     "text": [
      "[169/200] LR=0.00651 Train loss=0.5988 acc=95.74% | Val loss=0.7139 acc=90.90% | Best val=90.90%\n"
     ]
    },
    {
     "name": "stderr",
     "output_type": "stream",
     "text": [
      "                                                                  \r"
     ]
    },
    {
     "name": "stdout",
     "output_type": "stream",
     "text": [
      "[170/200] LR=0.00612 Train loss=0.5989 acc=95.74% | Val loss=0.7153 acc=90.84% | Best val=90.90%\n"
     ]
    },
    {
     "name": "stderr",
     "output_type": "stream",
     "text": [
      "                                                                  \r"
     ]
    },
    {
     "name": "stdout",
     "output_type": "stream",
     "text": [
      "[171/200] LR=0.00574 Train loss=0.5931 acc=96.00% | Val loss=0.7125 acc=91.02% | Best val=91.02%\n"
     ]
    },
    {
     "name": "stderr",
     "output_type": "stream",
     "text": [
      "                                                                  \r"
     ]
    },
    {
     "name": "stdout",
     "output_type": "stream",
     "text": [
      "[172/200] LR=0.00537 Train loss=0.5932 acc=96.00% | Val loss=0.7165 acc=90.82% | Best val=91.02%\n"
     ]
    },
    {
     "name": "stderr",
     "output_type": "stream",
     "text": [
      "                                                                        \r"
     ]
    },
    {
     "name": "stdout",
     "output_type": "stream",
     "text": [
      "[173/200] LR=0.00501 Train loss=0.5882 acc=96.27% | Val loss=0.6934 acc=91.96% | Best val=91.96%\n"
     ]
    },
    {
     "name": "stderr",
     "output_type": "stream",
     "text": [
      "                                                                        \r"
     ]
    },
    {
     "name": "stdout",
     "output_type": "stream",
     "text": [
      "[174/200] LR=0.00467 Train loss=0.5872 acc=96.28% | Val loss=0.6950 acc=91.70% | Best val=91.96%\n"
     ]
    },
    {
     "name": "stderr",
     "output_type": "stream",
     "text": [
      "                                                                      \r"
     ]
    },
    {
     "name": "stdout",
     "output_type": "stream",
     "text": [
      "[175/200] LR=0.00433 Train loss=0.5840 acc=96.40% | Val loss=0.6959 acc=91.36% | Best val=91.96%\n"
     ]
    },
    {
     "name": "stderr",
     "output_type": "stream",
     "text": [
      "                                                                  \r"
     ]
    },
    {
     "name": "stdout",
     "output_type": "stream",
     "text": [
      "[176/200] LR=0.00401 Train loss=0.5793 acc=96.59% | Val loss=0.6984 acc=91.78% | Best val=91.96%\n"
     ]
    },
    {
     "name": "stderr",
     "output_type": "stream",
     "text": [
      "                                                                  \r"
     ]
    },
    {
     "name": "stdout",
     "output_type": "stream",
     "text": [
      "[177/200] LR=0.00370 Train loss=0.5788 acc=96.64% | Val loss=0.7088 acc=91.08% | Best val=91.96%\n"
     ]
    },
    {
     "name": "stderr",
     "output_type": "stream",
     "text": [
      "                                                                  \r"
     ]
    },
    {
     "name": "stdout",
     "output_type": "stream",
     "text": [
      "[178/200] LR=0.00340 Train loss=0.5787 acc=96.63% | Val loss=0.6874 acc=92.36% | Best val=92.36%\n"
     ]
    },
    {
     "name": "stderr",
     "output_type": "stream",
     "text": [
      "                                                                  \r"
     ]
    },
    {
     "name": "stdout",
     "output_type": "stream",
     "text": [
      "[179/200] LR=0.00312 Train loss=0.5763 acc=96.66% | Val loss=0.6916 acc=91.98% | Best val=92.36%\n"
     ]
    },
    {
     "name": "stderr",
     "output_type": "stream",
     "text": [
      "                                                                  \r"
     ]
    },
    {
     "name": "stdout",
     "output_type": "stream",
     "text": [
      "[180/200] LR=0.00284 Train loss=0.5689 acc=97.07% | Val loss=0.7053 acc=91.26% | Best val=92.36%\n"
     ]
    },
    {
     "name": "stderr",
     "output_type": "stream",
     "text": [
      "                                                                  \r"
     ]
    },
    {
     "name": "stdout",
     "output_type": "stream",
     "text": [
      "[181/200] LR=0.00258 Train loss=0.5727 acc=96.91% | Val loss=0.6960 acc=91.54% | Best val=92.36%\n"
     ]
    },
    {
     "name": "stderr",
     "output_type": "stream",
     "text": [
      "                                                                  \r"
     ]
    },
    {
     "name": "stdout",
     "output_type": "stream",
     "text": [
      "[182/200] LR=0.00233 Train loss=0.5672 acc=97.16% | Val loss=0.6880 acc=92.12% | Best val=92.36%\n"
     ]
    },
    {
     "name": "stderr",
     "output_type": "stream",
     "text": [
      "                                                                  \r"
     ]
    },
    {
     "name": "stdout",
     "output_type": "stream",
     "text": [
      "[183/200] LR=0.00210 Train loss=0.5665 acc=97.19% | Val loss=0.6825 acc=92.34% | Best val=92.36%\n"
     ]
    },
    {
     "name": "stderr",
     "output_type": "stream",
     "text": [
      "                                                                  \r"
     ]
    },
    {
     "name": "stdout",
     "output_type": "stream",
     "text": [
      "[184/200] LR=0.00187 Train loss=0.5658 acc=97.24% | Val loss=0.6878 acc=91.90% | Best val=92.36%\n"
     ]
    },
    {
     "name": "stderr",
     "output_type": "stream",
     "text": [
      "                                                                  \r"
     ]
    },
    {
     "name": "stdout",
     "output_type": "stream",
     "text": [
      "[185/200] LR=0.00166 Train loss=0.5653 acc=97.10% | Val loss=0.6767 acc=92.56% | Best val=92.56%\n"
     ]
    },
    {
     "name": "stderr",
     "output_type": "stream",
     "text": [
      "                                                                  \r"
     ]
    },
    {
     "name": "stdout",
     "output_type": "stream",
     "text": [
      "[186/200] LR=0.00146 Train loss=0.5615 acc=97.38% | Val loss=0.6799 acc=92.52% | Best val=92.56%\n"
     ]
    },
    {
     "name": "stderr",
     "output_type": "stream",
     "text": [
      "                                                                  \r"
     ]
    },
    {
     "name": "stdout",
     "output_type": "stream",
     "text": [
      "[187/200] LR=0.00128 Train loss=0.5613 acc=97.41% | Val loss=0.6794 acc=92.50% | Best val=92.56%\n"
     ]
    },
    {
     "name": "stderr",
     "output_type": "stream",
     "text": [
      "                                                                  \r"
     ]
    },
    {
     "name": "stdout",
     "output_type": "stream",
     "text": [
      "[188/200] LR=0.00110 Train loss=0.5621 acc=97.36% | Val loss=0.6820 acc=92.30% | Best val=92.56%\n"
     ]
    },
    {
     "name": "stderr",
     "output_type": "stream",
     "text": [
      "                                                                  \r"
     ]
    },
    {
     "name": "stdout",
     "output_type": "stream",
     "text": [
      "[189/200] LR=0.00094 Train loss=0.5597 acc=97.45% | Val loss=0.6813 acc=92.52% | Best val=92.56%\n"
     ]
    },
    {
     "name": "stderr",
     "output_type": "stream",
     "text": [
      "                                                                  \r"
     ]
    },
    {
     "name": "stdout",
     "output_type": "stream",
     "text": [
      "[190/200] LR=0.00079 Train loss=0.5580 acc=97.53% | Val loss=0.6645 acc=92.96% | Best val=92.96%\n"
     ]
    },
    {
     "name": "stderr",
     "output_type": "stream",
     "text": [
      "                                                                  \r"
     ]
    },
    {
     "name": "stdout",
     "output_type": "stream",
     "text": [
      "[191/200] LR=0.00066 Train loss=0.5565 acc=97.60% | Val loss=0.6852 acc=92.16% | Best val=92.96%\n"
     ]
    },
    {
     "name": "stderr",
     "output_type": "stream",
     "text": [
      "                                                                  \r"
     ]
    },
    {
     "name": "stdout",
     "output_type": "stream",
     "text": [
      "[192/200] LR=0.00053 Train loss=0.5596 acc=97.46% | Val loss=0.6865 acc=92.60% | Best val=92.96%\n"
     ]
    },
    {
     "name": "stderr",
     "output_type": "stream",
     "text": [
      "                                                                  \r"
     ]
    },
    {
     "name": "stdout",
     "output_type": "stream",
     "text": [
      "[193/200] LR=0.00042 Train loss=0.5564 acc=97.62% | Val loss=0.6715 acc=92.62% | Best val=92.96%\n"
     ]
    },
    {
     "name": "stderr",
     "output_type": "stream",
     "text": [
      "                                                                  \r"
     ]
    },
    {
     "name": "stdout",
     "output_type": "stream",
     "text": [
      "[194/200] LR=0.00033 Train loss=0.5573 acc=97.56% | Val loss=0.6765 acc=92.42% | Best val=92.96%\n"
     ]
    },
    {
     "name": "stderr",
     "output_type": "stream",
     "text": [
      "                                                                  \r"
     ]
    },
    {
     "name": "stdout",
     "output_type": "stream",
     "text": [
      "[195/200] LR=0.00024 Train loss=0.5538 acc=97.75% | Val loss=0.6773 acc=92.64% | Best val=92.96%\n"
     ]
    },
    {
     "name": "stderr",
     "output_type": "stream",
     "text": [
      "                                                                  \r"
     ]
    },
    {
     "name": "stdout",
     "output_type": "stream",
     "text": [
      "[196/200] LR=0.00017 Train loss=0.5573 acc=97.46% | Val loss=0.6546 acc=93.62% | Best val=93.62%\n"
     ]
    },
    {
     "name": "stderr",
     "output_type": "stream",
     "text": [
      "                                                                  \r"
     ]
    },
    {
     "name": "stdout",
     "output_type": "stream",
     "text": [
      "[197/200] LR=0.00011 Train loss=0.5558 acc=97.57% | Val loss=0.6658 acc=93.08% | Best val=93.62%\n"
     ]
    },
    {
     "name": "stderr",
     "output_type": "stream",
     "text": [
      "                                                                  \r"
     ]
    },
    {
     "name": "stdout",
     "output_type": "stream",
     "text": [
      "[198/200] LR=0.00007 Train loss=0.5551 acc=97.65% | Val loss=0.6713 acc=92.88% | Best val=93.62%\n"
     ]
    },
    {
     "name": "stderr",
     "output_type": "stream",
     "text": [
      "                                                                  \r"
     ]
    },
    {
     "name": "stdout",
     "output_type": "stream",
     "text": [
      "[199/200] LR=0.00004 Train loss=0.5558 acc=97.60% | Val loss=0.6812 acc=92.44% | Best val=93.62%\n"
     ]
    },
    {
     "name": "stderr",
     "output_type": "stream",
     "text": [
      "                                                                  \r"
     ]
    },
    {
     "name": "stdout",
     "output_type": "stream",
     "text": [
      "[200/200] LR=0.00002 Train loss=0.5560 acc=97.60% | Val loss=0.6786 acc=92.32% | Best val=93.62%\n",
      "Loading best checkpoint for test evaluation.\n"
     ]
    },
    {
     "name": "stderr",
     "output_type": "stream",
     "text": [
      "                                                     "
     ]
    },
    {
     "name": "stdout",
     "output_type": "stream",
     "text": [
      "TEST  loss=0.6073 acc=95.77%\n"
     ]
    },
    {
     "name": "stderr",
     "output_type": "stream",
     "text": [
      "\r"
     ]
    }
   ],
   "source": [
    "#!/usr/bin/env python3\n",
    "\"\"\"\n",
    "Colab-compatible CIFAR-10 training/evaluation (ResNet18), Mac GPU (MPS) ready.\n",
    "- Uses Apple Metal (mps) if available\n",
    "- Data augmentation: RandomCrop, Flip, AutoAugment\n",
    "- Optional Mixup\n",
    "- Label smoothing\n",
    "- Cosine LR schedule with warmup\n",
    "- SGD (momentum, Nesterov, weight decay)\n",
    "- Checkpointing (latest + best)\n",
    "- Resume support\n",
    "\"\"\"\n",
    "\n",
    "import os\n",
    "import math\n",
    "import torch\n",
    "import torch.nn as nn\n",
    "import torch.nn.functional as F\n",
    "import torch.optim as optim\n",
    "from tqdm import tqdm\n",
    "from torchvision import datasets, transforms\n",
    "from torch.utils.data import DataLoader\n",
    "import numpy as np\n",
    "import argparse\n",
    "import random\n",
    "\n",
    "# -------------------------\n",
    "# Device helpers (MPS first on Mac)\n",
    "# -------------------------\n",
    "def resolve_device(preferred: str | None = None) -> torch.device:\n",
    "    if preferred is not None:\n",
    "        # allow explicit override via --device (cpu/cuda/mps)\n",
    "        if preferred == \"mps\" and torch.backends.mps.is_available():\n",
    "            return torch.device(\"mps\")\n",
    "        if preferred == \"cuda\" and torch.cuda.is_available():\n",
    "            return torch.device(\"cuda\")\n",
    "        return torch.device(\"cpu\")\n",
    "    # auto-pick\n",
    "    if torch.backends.mps.is_available():\n",
    "        return torch.device(\"mps\")\n",
    "    if torch.cuda.is_available():\n",
    "        return torch.device(\"cuda\")\n",
    "    return torch.device(\"cpu\")\n",
    "\n",
    "# -------------------------\n",
    "# Reproducibility helper\n",
    "# -------------------------\n",
    "def set_seed(seed=42):\n",
    "    random.seed(seed)\n",
    "    np.random.seed(seed)\n",
    "    torch.manual_seed(seed)\n",
    "    if torch.cuda.is_available():\n",
    "        torch.cuda.manual_seed_all(seed)\n",
    "\n",
    "# -------------------------\n",
    "# Model: Basic Residual Block and ResNet\n",
    "# -------------------------\n",
    "class BasicBlock(nn.Module):\n",
    "    expansion = 1\n",
    "    def __init__(self, in_planes, planes, stride=1):\n",
    "        super().__init__()\n",
    "        self.conv1 = nn.Conv2d(in_planes, planes, kernel_size=3,\n",
    "                               stride=stride, padding=1, bias=False)\n",
    "        self.bn1 = nn.BatchNorm2d(planes)\n",
    "        self.conv2 = nn.Conv2d(planes, planes, kernel_size=3,\n",
    "                               stride=1, padding=1, bias=False)\n",
    "        self.bn2 = nn.BatchNorm2d(planes)\n",
    "\n",
    "        self.shortcut = nn.Identity()\n",
    "        if stride != 1 or in_planes != planes * self.expansion:\n",
    "            self.shortcut = nn.Sequential(\n",
    "                nn.Conv2d(in_planes, planes * self.expansion,\n",
    "                          kernel_size=1, stride=stride, bias=False),\n",
    "                nn.BatchNorm2d(planes * self.expansion)\n",
    "            )\n",
    "\n",
    "    def forward(self, x):\n",
    "        out = F.relu(self.bn1(self.conv1(x)))\n",
    "        out = self.bn2(self.conv2(out))\n",
    "        out += self.shortcut(x)\n",
    "        out = F.relu(out)\n",
    "        return out\n",
    "\n",
    "class CIFARResNet(nn.Module):\n",
    "    def __init__(self, block=BasicBlock, num_blocks=[2,2,2,2], num_classes=10):\n",
    "        super().__init__()\n",
    "        self.in_planes = 64\n",
    "\n",
    "        self.conv1 = nn.Conv2d(3, 64, kernel_size=3,\n",
    "                               stride=1, padding=1, bias=False)\n",
    "        self.bn1 = nn.BatchNorm2d(64)\n",
    "\n",
    "        self.layer1 = self._make_layer(block, 64,  num_blocks[0], stride=1)\n",
    "        self.layer2 = self._make_layer(block, 128, num_blocks[1], stride=2)\n",
    "        self.layer3 = self._make_layer(block, 256, num_blocks[2], stride=2)\n",
    "        self.layer4 = self._make_layer(block, 512, num_blocks[3], stride=2)\n",
    "\n",
    "        self.avgpool = nn.AdaptiveAvgPool2d(1)\n",
    "        self.fc = nn.Linear(512 * block.expansion, num_classes)\n",
    "\n",
    "    def _make_layer(self, block, planes, num_blocks, stride):\n",
    "        layers = [block(self.in_planes, planes, stride)]\n",
    "        self.in_planes = planes * block.expansion\n",
    "        for _ in range(1, num_blocks):\n",
    "            layers.append(block(self.in_planes, planes))\n",
    "        return nn.Sequential(*layers)\n",
    "\n",
    "    def forward(self, x):\n",
    "        out = F.relu(self.bn1(self.conv1(x)))        # (B,64,32,32)\n",
    "        out = self.layer1(out)                       # (B,64,32,32)\n",
    "        out = self.layer2(out)                       # (B,128,16,16)\n",
    "        out = self.layer3(out)                       # (B,256,8,8)\n",
    "        out = self.layer4(out)                       # (B,512,4,4)\n",
    "        out = self.avgpool(out)                      # (B,512,1,1)\n",
    "        out = torch.flatten(out, 1)\n",
    "        out = self.fc(out)\n",
    "        return out\n",
    "\n",
    "# -------------------------\n",
    "# Mixup utilities\n",
    "# -------------------------\n",
    "def mixup_data(x, y, alpha=1.0, device=None):\n",
    "    if alpha <= 0:\n",
    "        return x, y, y, 1.0\n",
    "    if device is None:\n",
    "        device = x.device\n",
    "    lam = np.random.beta(alpha, alpha)\n",
    "    batch_size = x.size(0)\n",
    "    index = torch.randperm(batch_size, device=device)\n",
    "    mixed_x = lam * x + (1 - lam) * x[index]\n",
    "    y_a, y_b = y, y[index]\n",
    "    return mixed_x, y_a, y_b, lam\n",
    "\n",
    "def mixup_criterion(criterion, pred, y_a, y_b, lam):\n",
    "    return lam * criterion(pred, y_a) + (1 - lam) * criterion(pred, y_b)\n",
    "\n",
    "# -------------------------\n",
    "# LR Scheduler with warmup + cosine decay\n",
    "# -------------------------\n",
    "class WarmupCosineLRScheduler:\n",
    "    def __init__(self, optimizer, base_lr, total_epochs, warmup_epochs=5, min_lr=1e-5):\n",
    "        self.optimizer = optimizer\n",
    "        self.base_lr = base_lr\n",
    "        self.total_epochs = total_epochs\n",
    "        self.warmup_epochs = warmup_epochs\n",
    "        self.min_lr = min_lr\n",
    "\n",
    "    def step(self, epoch):\n",
    "        if epoch < self.warmup_epochs:\n",
    "            lr = self.base_lr * float(epoch + 1) / max(1, self.warmup_epochs)\n",
    "        else:\n",
    "            decay_epochs = self.total_epochs - self.warmup_epochs\n",
    "            pct = float(epoch - self.warmup_epochs) / max(1, decay_epochs)\n",
    "            cosine = 0.5 * (1 + math.cos(math.pi * pct))\n",
    "            lr = self.min_lr + (self.base_lr - self.min_lr) * cosine\n",
    "\n",
    "        for param_group in self.optimizer.param_groups:\n",
    "            param_group[\"lr\"] = lr\n",
    "        return lr\n",
    "\n",
    "# -------------------------\n",
    "# Train / Eval loops\n",
    "# -------------------------\n",
    "def train_one_epoch(model, loader, optimizer, criterion, device, epoch, args, scheduler=None):\n",
    "    model.train()\n",
    "    running_loss, correct, total = 0.0, 0.0, 0\n",
    "    for inputs, targets in tqdm(loader, desc=f\"Train epoch {epoch}\", leave=False):\n",
    "        inputs = inputs.to(device, non_blocking=(device.type == \"cuda\"))\n",
    "        targets = targets.to(device, non_blocking=(device.type == \"cuda\"))\n",
    "\n",
    "        if args.mixup:\n",
    "            inputs, targets_a, targets_b, lam = mixup_data(inputs, targets, alpha=args.mixup_alpha, device=device)\n",
    "            outputs = model(inputs)\n",
    "            loss = mixup_criterion(criterion, outputs, targets_a, targets_b, lam)\n",
    "        else:\n",
    "            outputs = model(inputs)\n",
    "            loss = criterion(outputs, targets)\n",
    "\n",
    "        optimizer.zero_grad()\n",
    "        loss.backward()\n",
    "        optimizer.step()\n",
    "\n",
    "        running_loss += loss.item() * inputs.size(0)\n",
    "        _, predicted = outputs.max(1)\n",
    "        if args.mixup:\n",
    "            correct += lam * predicted.eq(targets_a).sum().item() + (1 - lam) * predicted.eq(targets_b).sum().item()\n",
    "        else:\n",
    "            correct += predicted.eq(targets).sum().item()\n",
    "        total += targets.size(0)\n",
    "\n",
    "    avg_loss = running_loss / total\n",
    "    acc = 100.0 * correct / total\n",
    "    return avg_loss, acc\n",
    "\n",
    "@torch.no_grad()\n",
    "def evaluate(model, loader, criterion, device):\n",
    "    model.eval()\n",
    "    running_loss, correct, total = 0.0, 0, 0\n",
    "    for inputs, targets in tqdm(loader, desc=\"Eval\", leave=False):\n",
    "        inputs = inputs.to(device, non_blocking=(device.type == \"cuda\"))\n",
    "        targets = targets.to(device, non_blocking=(device.type == \"cuda\"))\n",
    "        outputs = model(inputs)\n",
    "        loss = criterion(outputs, targets)\n",
    "        running_loss += loss.item() * inputs.size(0)\n",
    "        _, predicted = outputs.max(1)\n",
    "        correct += predicted.eq(targets).sum().item()\n",
    "        total += targets.size(0)\n",
    "    avg_loss = running_loss / total\n",
    "    acc = 100.0 * correct / total\n",
    "    return avg_loss, acc\n",
    "\n",
    "# -------------------------\n",
    "# Checkpoint helpers\n",
    "# -------------------------\n",
    "def save_checkpoint(state, is_best, outdir, name=\"checkpoint.pth\"):\n",
    "    os.makedirs(outdir, exist_ok=True)\n",
    "    path = os.path.join(outdir, name)\n",
    "    torch.save(state, path)\n",
    "    if is_best:\n",
    "        torch.save(state, os.path.join(outdir, \"best.pth\"))\n",
    "\n",
    "def accuracy_str(acc):\n",
    "    return f\"{acc:.2f}%\"\n",
    "\n",
    "# -------------------------\n",
    "# Argument parsing (Colab/Mac-friendly)\n",
    "# -------------------------\n",
    "def get_args():\n",
    "    parser = argparse.ArgumentParser(description=\"CIFAR-10 ResNet Training (MPS-ready)\")\n",
    "    parser.add_argument(\"--epochs\", type=int, default=200)\n",
    "    parser.add_argument(\"--batch-size\", type=int, default=128)\n",
    "    parser.add_argument(\"--lr\", type=float, default=0.1)\n",
    "    parser.add_argument(\"--weight-decay\", type=float, default=5e-4)\n",
    "    parser.add_argument(\"--momentum\", type=float, default=0.9)\n",
    "    parser.add_argument(\"--warmup-epochs\", type=int, default=5)\n",
    "    parser.add_argument(\"--mixup\", action=\"store_true\")\n",
    "    parser.add_argument(\"--mixup-alpha\", type=float, default=0.8)\n",
    "    parser.add_argument(\"--label-smoothing\", type=float, default=0.1)\n",
    "    parser.add_argument(\"--data-dir\", type=str, default=\"./data\")\n",
    "    parser.add_argument(\"--out-dir\", type=str, default=\"./checkpoints\")\n",
    "    parser.add_argument(\"--resume\", type=str, default=None, help=\"path to checkpoint to resume\")\n",
    "    parser.add_argument(\"--no-autoaugment\", action=\"store_true\", help=\"disable AutoAugment\")\n",
    "\n",
    "    # Default device prefers MPS on Mac, then CUDA, else CPU\n",
    "    default_device = \"mps\" if torch.backends.mps.is_available() else (\"cuda\" if torch.cuda.is_available() else \"cpu\")\n",
    "    parser.add_argument(\"--device\", type=str, default=default_device, choices=[\"cpu\",\"cuda\",\"mps\"])\n",
    "    args, _ = parser.parse_known_args()\n",
    "    return args\n",
    "\n",
    "# -------------------------\n",
    "# Main\n",
    "# -------------------------\n",
    "def main():\n",
    "    set_seed(42)\n",
    "    args = get_args()\n",
    "    device = resolve_device(args.device)\n",
    "    print(f\"Using device: {device}\")\n",
    "\n",
    "    # Data transforms\n",
    "    mean = (0.4914, 0.4822, 0.4465)\n",
    "    std  = (0.2023, 0.1994, 0.2010)\n",
    "\n",
    "    train_transforms = [\n",
    "        transforms.RandomCrop(32, padding=4),\n",
    "        transforms.RandomHorizontalFlip(),\n",
    "    ]\n",
    "    if not args.no_autoaugment:\n",
    "        train_transforms.append(transforms.AutoAugment(policy=transforms.AutoAugmentPolicy.CIFAR10))\n",
    "    train_transforms += [\n",
    "        transforms.ToTensor(),\n",
    "        transforms.Normalize(mean, std),\n",
    "    ]\n",
    "    train_transform = transforms.Compose(train_transforms)\n",
    "    test_transform = transforms.Compose([\n",
    "        transforms.ToTensor(),\n",
    "        transforms.Normalize(mean, std),\n",
    "    ])\n",
    "\n",
    "    # Dataset + loaders\n",
    "    train_set = datasets.CIFAR10(root=args.data_dir, train=True, download=True, transform=train_transform)\n",
    "    test_set = datasets.CIFAR10(root=args.data_dir, train=False, download=True, transform=test_transform)\n",
    "\n",
    "    # Split train into train/val\n",
    "    val_size = 5000\n",
    "    train_size = len(train_set) - val_size\n",
    "    train_subset, val_subset = torch.utils.data.random_split(\n",
    "        train_set, [train_size, val_size],\n",
    "        generator=torch.Generator().manual_seed(42)\n",
    "    )\n",
    "\n",
    "    pin_mem = (device.type == \"cuda\")  # pin memory helps only for CUDA\n",
    "    train_loader = DataLoader(train_subset, batch_size=args.batch_size, shuffle=True,\n",
    "                              num_workers=4, pin_memory=pin_mem)\n",
    "    val_loader = DataLoader(val_subset, batch_size=args.batch_size, shuffle=False,\n",
    "                            num_workers=4, pin_memory=pin_mem)\n",
    "    test_loader = DataLoader(test_set, batch_size=args.batch_size, shuffle=False,\n",
    "                             num_workers=4, pin_memory=pin_mem)\n",
    "\n",
    "    # Model\n",
    "    model = CIFARResNet().to(device)\n",
    "\n",
    "    # Criterion\n",
    "    criterion = nn.CrossEntropyLoss(label_smoothing=args.label_smoothing) if not args.mixup else nn.CrossEntropyLoss()\n",
    "\n",
    "    optimizer = optim.SGD(model.parameters(), lr=args.lr,\n",
    "                          momentum=args.momentum, weight_decay=args.weight_decay, nesterov=True)\n",
    "    scheduler = WarmupCosineLRScheduler(optimizer, base_lr=args.lr,\n",
    "                                       total_epochs=args.epochs,\n",
    "                                       warmup_epochs=args.warmup_epochs,\n",
    "                                       min_lr=1e-5)\n",
    "\n",
    "    start_epoch = 0\n",
    "    best_val_acc = 0.0\n",
    "\n",
    "    # Resume checkpoint if given\n",
    "    if args.resume and os.path.isfile(args.resume):\n",
    "        ckpt = torch.load(args.resume, map_location=device)\n",
    "        model.load_state_dict(ckpt[\"model_state\"])\n",
    "        optimizer.load_state_dict(ckpt[\"optim_state\"])\n",
    "        start_epoch = ckpt[\"epoch\"] + 1\n",
    "        best_val_acc = ckpt.get(\"best_val_acc\", 0.0)\n",
    "        print(f\"Resumed from {args.resume}: starting at epoch {start_epoch}, best val acc {best_val_acc:.2f}\")\n",
    "\n",
    "    # Training loop\n",
    "    for epoch in range(start_epoch, args.epochs):\n",
    "        current_lr = scheduler.step(epoch)\n",
    "        train_loss, train_acc = train_one_epoch(model, train_loader, optimizer,\n",
    "                                                criterion, device, epoch+1, args, scheduler)\n",
    "        val_loss, val_acc = evaluate(model, val_loader, criterion, device)\n",
    "\n",
    "        is_best = val_acc > best_val_acc\n",
    "        if is_best:\n",
    "            best_val_acc = val_acc\n",
    "\n",
    "        save_checkpoint({\n",
    "            \"epoch\": epoch,\n",
    "            \"model_state\": model.state_dict(),\n",
    "            \"optim_state\": optimizer.state_dict(),\n",
    "            \"best_val_acc\": best_val_acc,\n",
    "            \"args\": vars(args),\n",
    "        }, is_best, args.out_dir)\n",
    "\n",
    "        print(f\"[{epoch+1:03d}/{args.epochs}] LR={current_lr:.5f} \"\n",
    "              f\"Train loss={round(train_loss,4):.4f} acc={train_acc:.2f}% | \"\n",
    "              f\"Val loss={round(val_loss,4):.4f} acc={val_acc:.2f}% | \"\n",
    "              f\"Best val={best_val_acc:.2f}%\")\n",
    "\n",
    "    # Final test eval using best checkpoint\n",
    "    best_path = os.path.join(args.out_dir, \"best.pth\")\n",
    "    if os.path.isfile(best_path):\n",
    "        print(\"Loading best checkpoint for test evaluation.\")\n",
    "        ckpt = torch.load(best_path, map_location=device)\n",
    "        model.load_state_dict(ckpt[\"model_state\"])\n",
    "    else:\n",
    "        print(\"Best model not found; using last epoch model.\")\n",
    "\n",
    "    test_loss, test_acc = evaluate(model, test_loader, criterion, device)\n",
    "    print(f\"TEST  loss={test_loss:.4f} acc={test_acc:.2f}%\")\n",
    "\n",
    "    # Optional: free MPS cache between large runs\n",
    "    if device.type == \"mps\":\n",
    "        try:\n",
    "            torch.mps.empty_cache()\n",
    "        except Exception:\n",
    "            pass\n",
    "\n",
    "if __name__ == \"__main__\":\n",
    "    main()\n"
   ]
  },
  {
   "cell_type": "code",
   "execution_count": null,
   "id": "9245e28c",
   "metadata": {},
   "outputs": [
    {
     "name": "stderr",
     "output_type": "stream",
     "text": [
      "usage: Targeted FGSM & PGD (airplane -> horse) [-h] [--ckpt CKPT]\n",
      "                                               [--batch-size BATCH_SIZE]\n",
      "                                               [--eps EPS] [--alpha ALPHA]\n",
      "                                               [--steps STEPS]\n",
      "                                               [--maxviz MAXVIZ]\n",
      "                                               [--device DEVICE]\n",
      "Targeted FGSM & PGD (airplane -> horse): error: unrecognized arguments: --f=/Users/deeppandya/Library/Jupyter/runtime/kernel-v3013e03ca3e112dafc1dfbc7dc98ec848bf9981ca.json\n"
     ]
    },
    {
     "ename": "SystemExit",
     "evalue": "2",
     "output_type": "error",
     "traceback": [
      "An exception has occurred, use %tb to see the full traceback.\n",
      "\u001b[31mSystemExit\u001b[39m\u001b[31m:\u001b[39m 2\n"
     ]
    }
   ],
   "source": [
    "import os, argparse\n",
    "import torch\n",
    "import torch.nn.functional as F\n",
    "from torchvision import datasets, transforms\n",
    "from torch.utils.data import DataLoader\n",
    "import matplotlib.pyplot as plt\n",
    "import numpy as np\n",
    "\n",
    "# ------------ CONFIG PARSER ------------\n",
    "def get_args():\n",
    "    p = argparse.ArgumentParser(\"Targeted FGSM & PGD (airplane -> horse)\")\n",
    "    p.add_argument(\"--ckpt\", type=str, default=\"/Users/deeppandya/Desktop/Aple-silicon/checkpoints/best.pth\")\n",
    "    \n",
    "    p.add_argument(\"--batch-size\", type=int, default=128)\n",
    "    p.add_argument(\"--eps\", type=float, default=8, help=\"epsilon in /255\")\n",
    "    p.add_argument(\"--alpha\", type=float, default=2, help=\"alpha in /255 for PGD\")\n",
    "    p.add_argument(\"--steps\", type=int, default=10, help=\"PGD steps\")\n",
    "    p.add_argument(\"--maxviz\", type=int, default=8, help=\"images per grid\")\n",
    "    p.add_argument(\"--device\", type=str, default=\"cuda\" if torch.cuda.is_available() else \"cpu\")\n",
    "    return p.parse_args()\n",
    "\n",
    "# ------------ CIFAR-10 CONSTANTS ------------\n",
    "CLASS_NAMES = ['airplane','automobile','bird','cat','deer','dog','frog','horse','ship','truck']\n",
    "AIRPLANE, HORSE = 0, 7\n",
    "\n",
    "# These will be created on the chosen device later:\n",
    "MEAN = None\n",
    "STD  = None\n",
    "\n",
    "# ------------ NORMALIZE / DENORMALIZE ------------\n",
    "def normalize(x):   # x in [0,1]\n",
    "    return (x - MEAN) / STD\n",
    "\n",
    "def denormalize(x):  # clip back to [0,1]\n",
    "    return torch.clamp(x * STD + MEAN, 0.0, 1.0)\n",
    "\n",
    "# ------------ LOADING MODEL ------------\n",
    "def load_model(ckpt_path, device):\n",
    "    model = CIFARResNet().to(device)  # uses your class\n",
    "    ckpt = torch.load(ckpt_path, map_location=device)\n",
    "    state = ckpt.get(\"model_state\", ckpt)  # support raw state_dict or wrapped\n",
    "    model.load_state_dict(state)\n",
    "    model.eval()\n",
    "    return model\n",
    "\n",
    "@torch.no_grad()\n",
    "def predict(model, x_norm):\n",
    "    logits = model(x_norm)\n",
    "    prob = F.softmax(logits, dim=1)\n",
    "    conf, pred = prob.max(dim=1)\n",
    "    return pred, conf, prob\n",
    "\n",
    "# ------------ TARGETED ATTACKS ------------\n",
    "def targeted_fgsm(model, x_norm, target_labels, epsilon):\n",
    "    # craft in pixel space\n",
    "    x = denormalize(x_norm).clone().detach().requires_grad_(True)  # [0,1]\n",
    "    logits = model(normalize(x))\n",
    "    loss = F.cross_entropy(logits, target_labels)\n",
    "    model.zero_grad(set_to_none=True)\n",
    "    loss.backward()\n",
    "    # targeted: descend toward target -> subtract sign\n",
    "    x_adv = x - epsilon * x.grad.sign()\n",
    "    x_adv = torch.clamp(x_adv, 0.0, 1.0)\n",
    "    return normalize(x_adv).detach()\n",
    "\n",
    "def targeted_pgd_linf(model, x_norm, target_labels, eps, alpha, steps):\n",
    "    x0 = denormalize(x_norm).clone().detach()  # [0,1]\n",
    "    x_adv = x0.clone().detach()\n",
    "    for _ in range(steps):\n",
    "        x_adv.requires_grad_(True)\n",
    "        logits = model(normalize(x_adv))\n",
    "        loss = F.cross_entropy(logits, target_labels)\n",
    "        model.zero_grad(set_to_none=True)\n",
    "        loss.backward()\n",
    "        # targeted step\n",
    "        x_adv = x_adv - alpha * x_adv.grad.sign()\n",
    "        # project to L_inf ball and clip to [0,1]\n",
    "        x_adv = torch.clamp(x_adv, x0 - eps, x0 + eps)\n",
    "        x_adv = torch.clamp(x_adv, 0.0, 1.0).detach()\n",
    "    return normalize(x_adv)\n",
    "\n",
    "# ------------ METRICS & VISUALS ------------\n",
    "def compute_metrics(attack_name, model, x_norm, y, adv_x_norm, orig_pred):\n",
    "    with torch.no_grad():\n",
    "        adv_pred, adv_conf, _ = predict(model, adv_x_norm)\n",
    "\n",
    "    total = x_norm.size(0)\n",
    "    right_mis = (adv_pred == HORSE).sum().item()\n",
    "    wrong_mis = ((adv_pred != AIRPLANE) & (adv_pred != HORSE)).sum().item()\n",
    "    unchanged = (adv_pred == AIRPLANE).sum().item()\n",
    "\n",
    "    # targeted success among originally correct airplanes\n",
    "    orig_correct_mask = (orig_pred == AIRPLANE)\n",
    "    n_orig_correct = orig_correct_mask.sum().item()\n",
    "    right_mis_from_correct = ((adv_pred == HORSE) & orig_correct_mask).sum().item() if n_orig_correct > 0 else 0\n",
    "\n",
    "    print(f\"\\n=== {attack_name} : airplane → horse ===\")\n",
    "    print(f\"Total airplane images: {total}\")\n",
    "    print(f\"Right misclassified (→ horse): {right_mis}  ({right_mis/total*100:.2f}%)\")\n",
    "    print(f\"Wrong misclassified (→ other): {wrong_mis}  ({wrong_mis/total*100:.2f}%)\")\n",
    "    print(f\"Unchanged (still airplane):   {unchanged}  ({unchanged/total*100:.2f}%)\")\n",
    "    if n_orig_correct > 0:\n",
    "        print(f\"Targeted success among originally-correct airplanes: \"\n",
    "              f\"{right_mis_from_correct}/{n_orig_correct} ({right_mis_from_correct/max(1,n_orig_correct)*100:.2f}%)\")\n",
    "\n",
    "    return adv_pred, adv_conf\n",
    "\n",
    "def make_grid_visual(tag, orig_x_norm, adv_x_norm, orig_pred, adv_pred, orig_conf, adv_conf, max_items=8, out_path=None):\n",
    "    n = min(max_items, orig_x_norm.size(0))\n",
    "    orig = denormalize(orig_x_norm[:n]).cpu().permute(0,2,3,1).numpy()\n",
    "    adv  = denormalize(adv_x_norm[:n]).cpu().permute(0,2,3,1).numpy()\n",
    "\n",
    "    fig_w = 2.4 * n\n",
    "    fig, axes = plt.subplots(2, n, figsize=(min(fig_w, 18), 5))\n",
    "    if n == 1:\n",
    "        axes = np.array([[axes[0]],[axes[1]]])\n",
    "\n",
    "    for i in range(n):\n",
    "        axes[0, i].imshow(orig[i])\n",
    "        axes[0, i].axis('off')\n",
    "        axes[0, i].set_title(f\"Orig: {CLASS_NAMES[orig_pred[i].item()]}\\n({orig_conf[i].item():.2f})\")\n",
    "\n",
    "        axes[1, i].imshow(adv[i])\n",
    "        axes[1, i].axis('off')\n",
    "        axes[1, i].set_title(f\"{tag}: {CLASS_NAMES[adv_pred[i].item()]}\\n({adv_conf[i].item():.2f})\")\n",
    "\n",
    "    plt.tight_layout()\n",
    "    if out_path:\n",
    "        plt.savefig(out_path, dpi=160, bbox_inches=\"tight\")\n",
    "        print(f\"[Saved] {out_path}\")\n",
    "    plt.show()\n",
    "\n",
    "# ------------ MAIN ------------\n",
    "def main():\n",
    "    args = get_args()\n",
    "    device = torch.device(args.device)\n",
    "    global MEAN, STD\n",
    "    MEAN = torch.tensor([0.4914, 0.4822, 0.4465], device=device).view(1,3,1,1)\n",
    "    STD  = torch.tensor([0.2023, 0.1994, 0.2010], device=device).view(1,3,1,1)\n",
    "\n",
    "    eps   = args.eps / 255.0\n",
    "    alpha = args.alpha / 255.0\n",
    "\n",
    "    # Data (test only, normalized)\n",
    "    test_tf = transforms.Compose([\n",
    "        transforms.ToTensor(),\n",
    "        transforms.Normalize((0.4914, 0.4822, 0.4465), (0.2023, 0.1994, 0.2010)),\n",
    "    ])\n",
    "    test_set = datasets.CIFAR10(root=\"./data\", train=False, download=True, transform=test_tf)\n",
    "    test_loader = DataLoader(test_set, batch_size=args.batch_size, shuffle=False, num_workers=2, pin_memory=True)\n",
    "\n",
    "    # Collect ONLY airplanes\n",
    "    xs, ys = [], []\n",
    "    for x, y in test_loader:\n",
    "        m = (y == AIRPLANE)\n",
    "        if m.any():\n",
    "            xs.append(x[m])\n",
    "            ys.append(y[m])\n",
    "    x_air = torch.cat(xs).to(device)     # normalized\n",
    "    y_air = torch.cat(ys).to(device)\n",
    "    print(f\"Total airplane test images: {x_air.size(0)}\")\n",
    "\n",
    "    # Model + baseline predictions\n",
    "    model = load_model(args.ckpt, device)\n",
    "    with torch.no_grad():\n",
    "        orig_pred, orig_conf, _ = predict(model, x_air)\n",
    "\n",
    "    # Target labels (horse)\n",
    "    t = torch.full_like(y_air, HORSE)\n",
    "\n",
    "    # 1) Run FGSM (independently)\n",
    "    x_adv_fgsm = targeted_fgsm(model, x_air, t, eps)\n",
    "    adv_pred_fgsm, adv_conf_fgsm = compute_metrics(\"FGSM\", model, x_air, y_air, x_adv_fgsm, orig_pred)\n",
    "    make_grid_visual(\"FGSM\", x_air, x_adv_fgsm, orig_pred, adv_pred_fgsm, orig_conf, adv_conf_fgsm,\n",
    "                     max_items=args.maxviz, out_path=\"adv_grid_fgsm.png\")\n",
    "\n",
    "    # 2) Run PGD (independently)\n",
    "    x_adv_pgd = targeted_pgd_linf(model, x_air, t, eps, alpha, args.steps)\n",
    "    adv_pred_pgd, adv_conf_pgd = compute_metrics(\"PGD\", model, x_air, y_air, x_adv_pgd, orig_pred)\n",
    "    make_grid_visual(\"PGD\", x_air, x_adv_pgd, orig_pred, adv_pred_pgd, orig_conf, adv_conf_pgd,\n",
    "                     max_items=args.maxviz, out_path=\"adv_grid_pgd.png\")\n",
    "\n",
    "if __name__ == \"__main__\":\n",
    "    main()\n"
   ]
  },
  {
   "cell_type": "code",
   "execution_count": 8,
   "id": "1966c00f",
   "metadata": {},
   "outputs": [
    {
     "name": "stderr",
     "output_type": "stream",
     "text": [
      "/Users/deeppandya/Desktop/Aple-silicon/.eenv/lib/python3.11/site-packages/torch/utils/data/dataloader.py:684: UserWarning: 'pin_memory' argument is set as true but not supported on MPS now, then device pinned memory won't be used.\n",
      "  warnings.warn(warn_msg)\n"
     ]
    },
    {
     "name": "stdout",
     "output_type": "stream",
     "text": [
      "Total airplane test images: 1000\n",
      "\n",
      "=== FGSM : airplane → horse ===\n",
      "Total airplane images: 1000\n",
      "Right misclassified (→ horse): 33  (3.30%)\n",
      "Wrong misclassified (→ other): 395  (39.50%)\n",
      "Unchanged (still airplane):   572  (57.20%)\n",
      "Targeted success among originally-correct airplanes: 31/960 (3.23%)\n",
      "[Saved] adv_grid_fgsm.png\n"
     ]
    },
    {
     "data": {
      "image/png": "[encoded data removed]",
      "text/plain": [
       "<Figure size 1800x500 with 16 Axes>"
      ]
     },
     "metadata": {},
     "output_type": "display_data"
    },
    {
     "name": "stdout",
     "output_type": "stream",
     "text": [
      "\n",
      "=== PGD : airplane → horse ===\n",
      "Total airplane images: 1000\n",
      "Right misclassified (→ horse): 595  (59.50%)\n",
      "Wrong misclassified (→ other): 198  (19.80%)\n",
      "Unchanged (still airplane):   207  (20.70%)\n",
      "Targeted success among originally-correct airplanes: 567/960 (59.06%)\n",
      "[Saved] adv_grid_pgd.png\n"
     ]
    },
    {
     "data": {
      "image/png": "[encoded data removed]",
      "text/plain": [
       "<Figure size 1800x500 with 16 Axes>"
      ]
     },
     "metadata": {},
     "output_type": "display_data"
    }
   ],
   "source": [
    "#!/usr/bin/env python3\n",
    "# attack_eval_both.py\n",
    "\"\"\"\n",
    "Run targeted FGSM and targeted PGD (L∞) to misclassify CIFAR-10 'airplane' (0) as 'horse' (7).\n",
    "- Loads your CIFARResNet from a checkpoint (best.pth or checkpoint.pth).\n",
    "- Evaluates each attack independently on all airplane images in the test set.\n",
    "- Prints:\n",
    "    Right misclassified (→ horse), Wrong misclassified (→ other), Unchanged (still airplane),\n",
    "    and targeted success among originally-correct airplanes.\n",
    "- Saves visuals: adv_grid_fgsm.png, adv_grid_pgd.png\n",
    "\"\"\"\n",
    "\n",
    "import os, math, argparse\n",
    "import torch\n",
    "import torch.nn as nn\n",
    "import torch.nn.functional as F\n",
    "from torchvision import datasets, transforms\n",
    "from torch.utils.data import DataLoader\n",
    "import matplotlib.pyplot as plt\n",
    "import numpy as np\n",
    "\n",
    "# -------------------------\n",
    "# Model: Basic Residual Block and ResNet (exactly as in your code)\n",
    "# -------------------------\n",
    "class BasicBlock(nn.Module):\n",
    "    expansion = 1\n",
    "    def __init__(self, in_planes, planes, stride=1):\n",
    "        super().__init__()\n",
    "        self.conv1 = nn.Conv2d(in_planes, planes, kernel_size=3,\n",
    "                               stride=stride, padding=1, bias=False)\n",
    "        self.bn1 = nn.BatchNorm2d(planes)\n",
    "        self.conv2 = nn.Conv2d(planes, planes, kernel_size=3,\n",
    "                               stride=1, padding=1, bias=False)\n",
    "        self.bn2 = nn.BatchNorm2d(planes)\n",
    "\n",
    "        self.shortcut = nn.Identity()\n",
    "        if stride != 1 or in_planes != planes * self.expansion:\n",
    "            self.shortcut = nn.Sequential(\n",
    "                nn.Conv2d(in_planes, planes * self.expansion,\n",
    "                          kernel_size=1, stride=stride, bias=False),\n",
    "                nn.BatchNorm2d(planes * self.expansion)\n",
    "            )\n",
    "\n",
    "    def forward(self, x):\n",
    "        out = F.relu(self.bn1(self.conv1(x)))\n",
    "        out = self.bn2(self.conv2(out))\n",
    "        out += self.shortcut(x)\n",
    "        out = F.relu(out)\n",
    "        return out\n",
    "\n",
    "class CIFARResNet(nn.Module):\n",
    "    def __init__(self, block=BasicBlock, num_blocks=[2,2,2,2], num_classes=10):\n",
    "        super().__init__()\n",
    "        self.in_planes = 64\n",
    "\n",
    "        self.conv1 = nn.Conv2d(3, 64, kernel_size=3,\n",
    "                               stride=1, padding=1, bias=False)\n",
    "        self.bn1 = nn.BatchNorm2d(64)\n",
    "\n",
    "        self.layer1 = self._make_layer(block, 64,  num_blocks[0], stride=1)\n",
    "        self.layer2 = self._make_layer(block, 128, num_blocks[1], stride=2)\n",
    "        self.layer3 = self._make_layer(block, 256, num_blocks[2], stride=2)\n",
    "        self.layer4 = self._make_layer(block, 512, num_blocks[3], stride=2)\n",
    "\n",
    "        self.avgpool = nn.AdaptiveAvgPool2d(1)\n",
    "        self.fc = nn.Linear(512 * block.expansion, num_classes)\n",
    "\n",
    "    def _make_layer(self, block, planes, num_blocks, stride):\n",
    "        layers = []\n",
    "        layers.append(block(self.in_planes, planes, stride))\n",
    "        self.in_planes = planes * block.expansion\n",
    "        for _ in range(1, num_blocks):\n",
    "            layers.append(block(self.in_planes, planes))\n",
    "        return nn.Sequential(*layers)\n",
    "\n",
    "    def forward(self, x):\n",
    "        out = F.relu(self.bn1(self.conv1(x)))        # (B,64,32,32)\n",
    "        out = self.layer1(out)                       # (B,64,32,32)\n",
    "        out = self.layer2(out)                       # (B,128,16,16)\n",
    "        out = self.layer3(out)                       # (B,256,8,8)\n",
    "        out = self.layer4(out)                       # (B,512,4,4)\n",
    "        out = self.avgpool(out)                      # (B,512,1,1)\n",
    "        out = torch.flatten(out, 1)\n",
    "        out = self.fc(out)\n",
    "        return out\n",
    "\n",
    "# -------------------------\n",
    "# Argparse (safe for notebooks)\n",
    "# -------------------------\n",
    "def get_args():\n",
    "    p = argparse.ArgumentParser(\"Targeted FGSM & PGD (airplane -> horse)\")\n",
    "    p.add_argument(\"--ckpt\", type=str, default=\"./checkpoints/best.pth\", help=\"path to .pth (best.pth or checkpoint.pth)\")\n",
    "    p.add_argument(\"--batch-size\", type=int, default=128)\n",
    "    p.add_argument(\"--eps\", type=float, default=8, help=\"epsilon in /255 units (e.g., 8 => 8/255)\")\n",
    "    p.add_argument(\"--alpha\", type=float, default=2, help=\"PGD step size in /255 units\")\n",
    "    p.add_argument(\"--steps\", type=int, default=10, help=\"PGD steps\")\n",
    "    p.add_argument(\"--maxviz\", type=int, default=8, help=\"images per visual grid\")\n",
    "    p.add_argument(\"--device\", type=str, default=\"cuda\" if torch.cuda.is_available() else \"cpu\")\n",
    "    args, _ = p.parse_known_args()   # <-- ignore Jupyter's hidden --f=...\n",
    "    return args\n",
    "\n",
    "# -------------------------\n",
    "# CIFAR-10 constants\n",
    "# -------------------------\n",
    "CLASS_NAMES = ['airplane','automobile','bird','cat','deer','dog','frog','horse','ship','truck']\n",
    "AIRPLANE, HORSE = 0, 7\n",
    "MEAN_CPU = (0.4914, 0.4822, 0.4465)\n",
    "STD_CPU  = (0.2023, 0.1994, 0.2010)\n",
    "\n",
    "# Globals (created on device at runtime)\n",
    "MEAN = None\n",
    "STD  = None\n",
    "\n",
    "# -------------------------\n",
    "# Normalize / denormalize\n",
    "# -------------------------\n",
    "def normalize(x):   # x in [0,1]\n",
    "    return (x - MEAN) / STD\n",
    "\n",
    "def denormalize(x):  # -> [0,1]\n",
    "    return torch.clamp(x * STD + MEAN, 0.0, 1.0)\n",
    "\n",
    "# -------------------------\n",
    "# Load model\n",
    "# -------------------------\n",
    "def load_model(ckpt_path, device):\n",
    "    model = CIFARResNet().to(device)\n",
    "    ckpt = torch.load(ckpt_path, map_location=device)\n",
    "    state = ckpt.get(\"model_state\", ckpt)  # support raw state_dict or wrapped {model_state,...}\n",
    "    model.load_state_dict(state)\n",
    "    model.eval()\n",
    "    return model\n",
    "\n",
    "@torch.no_grad()\n",
    "def predict(model, x_norm):\n",
    "    logits = model(x_norm)\n",
    "    prob = F.softmax(logits, dim=1)\n",
    "    conf, pred = prob.max(dim=1)\n",
    "    return pred, conf, prob\n",
    "\n",
    "# -------------------------\n",
    "# Targeted attacks\n",
    "# -------------------------\n",
    "def targeted_fgsm(model, x_norm, target_labels, epsilon):\n",
    "    \"\"\"\n",
    "    Craft in pixel space [0,1] for clear eps units; model sees normalized.\n",
    "    Targeted => gradient sign is SUBTRACTED.\n",
    "    \"\"\"\n",
    "    x = denormalize(x_norm).clone().detach().requires_grad_(True)  # [0,1]\n",
    "    logits = model(normalize(x))\n",
    "    loss = F.cross_entropy(logits, target_labels)\n",
    "    model.zero_grad(set_to_none=True)\n",
    "    loss.backward()\n",
    "    x_adv = x - epsilon * x.grad.sign()\n",
    "    x_adv = torch.clamp(x_adv, 0.0, 1.0)\n",
    "    return normalize(x_adv).detach()\n",
    "\n",
    "def targeted_pgd_linf(model, x_norm, target_labels, eps, alpha, steps):\n",
    "    x0 = denormalize(x_norm).clone().detach()      # [0,1]\n",
    "    x_adv = x0.clone().detach()\n",
    "    for _ in range(steps):\n",
    "        x_adv.requires_grad_(True)\n",
    "        logits = model(normalize(x_adv))\n",
    "        loss = F.cross_entropy(logits, target_labels)\n",
    "        model.zero_grad(set_to_none=True)\n",
    "        loss.backward()\n",
    "        # targeted step toward target\n",
    "        x_adv = x_adv - alpha * x_adv.grad.sign()\n",
    "        # project to L∞ ball and clip to [0,1]\n",
    "        x_adv = torch.clamp(x_adv, x0 - eps, x0 + eps)\n",
    "        x_adv = torch.clamp(x_adv, 0.0, 1.0).detach()\n",
    "    return normalize(x_adv)\n",
    "\n",
    "# -------------------------\n",
    "# Metrics & visuals\n",
    "# -------------------------\n",
    "def compute_metrics(attack_name, model, x_norm, adv_x_norm, orig_pred):\n",
    "    with torch.no_grad():\n",
    "        adv_pred, adv_conf, _ = predict(model, adv_x_norm)\n",
    "\n",
    "    total = x_norm.size(0)\n",
    "    right_mis = (adv_pred == HORSE).sum().item()\n",
    "    wrong_mis = ((adv_pred != AIRPLANE) & (adv_pred != HORSE)).sum().item()\n",
    "    unchanged = (adv_pred == AIRPLANE).sum().item()\n",
    "\n",
    "    # targeted success among originally-correct airplanes\n",
    "    orig_correct_mask = (orig_pred == AIRPLANE)\n",
    "    n_orig_correct = orig_correct_mask.sum().item()\n",
    "    right_mis_from_correct = ((adv_pred == HORSE) & orig_correct_mask).sum().item() if n_orig_correct > 0 else 0\n",
    "\n",
    "    print(f\"\\n=== {attack_name} : airplane → horse ===\")\n",
    "    print(f\"Total airplane images: {total}\")\n",
    "    print(f\"Right misclassified (→ horse): {right_mis}  ({right_mis/total*100:.2f}%)\")\n",
    "    print(f\"Wrong misclassified (→ other): {wrong_mis}  ({wrong_mis/total*100:.2f}%)\")\n",
    "    print(f\"Unchanged (still airplane):   {unchanged}  ({unchanged/total*100:.2f}%)\")\n",
    "    if n_orig_correct > 0:\n",
    "        print(f\"Targeted success among originally-correct airplanes: \"\n",
    "              f\"{right_mis_from_correct}/{n_orig_correct} \"\n",
    "              f\"({right_mis_from_correct/max(1,n_orig_correct)*100:.2f}%)\")\n",
    "\n",
    "    return adv_pred, adv_conf\n",
    "\n",
    "def make_grid_visual(tag, orig_x_norm, adv_x_norm, orig_pred, adv_pred, orig_conf, adv_conf, max_items=8, out_path=None):\n",
    "    n = min(max_items, orig_x_norm.size(0))\n",
    "    orig = denormalize(orig_x_norm[:n]).cpu().permute(0,2,3,1).numpy()\n",
    "    adv  = denormalize(adv_x_norm[:n]).cpu().permute(0,2,3,1).numpy()\n",
    "\n",
    "    fig_w = 2.4 * n\n",
    "    fig, axes = plt.subplots(2, n, figsize=(min(fig_w, 18), 5))\n",
    "    if n == 1:\n",
    "        axes = np.array([[axes[0]],[axes[1]]])\n",
    "\n",
    "    for i in range(n):\n",
    "        axes[0, i].imshow(orig[i])\n",
    "        axes[0, i].axis('off')\n",
    "        axes[0, i].set_title(f\"Orig: {CLASS_NAMES[orig_pred[i].item()]}\\n({orig_conf[i].item():.2f})\")\n",
    "\n",
    "        axes[1, i].imshow(adv[i])\n",
    "        axes[1, i].axis('off')\n",
    "        axes[1, i].set_title(f\"{tag}: {CLASS_NAMES[adv_pred[i].item()]}\\n({adv_conf[i].item():.2f})\")\n",
    "\n",
    "    plt.tight_layout()\n",
    "    if out_path:\n",
    "        plt.savefig(out_path, dpi=160, bbox_inches=\"tight\")\n",
    "        print(f\"[Saved] {out_path}\")\n",
    "    plt.show()\n",
    "\n",
    "# -------------------------\n",
    "# Main\n",
    "# -------------------------\n",
    "def main():\n",
    "    args = get_args()\n",
    "    device = torch.device(args.device)\n",
    "\n",
    "    # per-device mean/std tensors\n",
    "    global MEAN, STD\n",
    "    MEAN = torch.tensor(MEAN_CPU, device=device).view(1,3,1,1)\n",
    "    STD  = torch.tensor(STD_CPU,  device=device).view(1,3,1,1)\n",
    "\n",
    "    eps   = args.eps / 255.0\n",
    "    alpha = args.alpha / 255.0\n",
    "\n",
    "    # Data: CIFAR-10 test set (normalized)\n",
    "    test_tf = transforms.Compose([\n",
    "        transforms.ToTensor(),\n",
    "        transforms.Normalize(MEAN_CPU, STD_CPU),\n",
    "    ])\n",
    "    test_set = datasets.CIFAR10(root=\"./data\", train=False, download=True, transform=test_tf)\n",
    "    test_loader = DataLoader(test_set, batch_size=args.batch_size, shuffle=False, num_workers=2, pin_memory=True)\n",
    "\n",
    "    # Collect ONLY airplane images\n",
    "    xs, ys = [], []\n",
    "    for x, y in test_loader:\n",
    "        m = (y == AIRPLANE)\n",
    "        if m.any():\n",
    "            xs.append(x[m])\n",
    "            ys.append(y[m])\n",
    "    x_air = torch.cat(xs).to(device)     # normalized\n",
    "    y_air = torch.cat(ys).to(device)\n",
    "    print(f\"Total airplane test images: {x_air.size(0)}\")\n",
    "\n",
    "    # Load model & baseline predictions\n",
    "    model = load_model(args.ckpt, device)\n",
    "    with torch.no_grad():\n",
    "        orig_pred, orig_conf, _ = predict(model, x_air)\n",
    "\n",
    "    # Target labels: all 'horse'\n",
    "    target_labels = torch.full_like(y_air, HORSE)\n",
    "\n",
    "    # 1) Targeted FGSM (independent run)\n",
    "    x_adv_fgsm = targeted_fgsm(model, x_air, target_labels, eps)\n",
    "    adv_pred_fgsm, adv_conf_fgsm = compute_metrics(\"FGSM\", model, x_air, x_adv_fgsm, orig_pred)\n",
    "    make_grid_visual(\"FGSM\", x_air, x_adv_fgsm, orig_pred, adv_pred_fgsm, orig_conf, adv_conf_fgsm,\n",
    "                     max_items=args.maxviz, out_path=\"adv_grid_fgsm.png\")\n",
    "\n",
    "    # 2) Targeted PGD (independent run)\n",
    "    x_adv_pgd = targeted_pgd_linf(model, x_air, target_labels, eps, alpha, args.steps)\n",
    "    adv_pred_pgd, adv_conf_pgd = compute_metrics(\"PGD\", model, x_air, x_adv_pgd, orig_pred)\n",
    "    make_grid_visual(\"PGD\", x_air, x_adv_pgd, orig_pred, adv_pred_pgd, orig_conf, adv_conf_pgd,\n",
    "                     max_items=args.maxviz, out_path=\"adv_grid_pgd.png\")\n",
    "\n",
    "if __name__ == \"__main__\":\n",
    "    main()\n"
   ]
  },
  {
   "cell_type": "code",
   "execution_count": 9,
   "id": "83d49ba4",
   "metadata": {},
   "outputs": [],
   "source": [
    "def cw_targeted_loss(logits, target, kappa=0.0):\n",
    "    \"\"\"\n",
    "    Lower is better for the target. Standard CW targeted loss:\n",
    "      max( max_{j!=t} z_j - z_t, -kappa )\n",
    "    We minimize this (so we push z_t above others by margin kappa).\n",
    "    \"\"\"\n",
    "    num_classes = logits.size(1)\n",
    "    onehot = F.one_hot(target, num_classes=num_classes).bool()\n",
    "    z_t = logits[onehot]                                   # (B,)\n",
    "    z_others = logits.clone()\n",
    "    z_others[onehot] = -1e9                                # mask target\n",
    "    z_max_other, _ = z_others.max(dim=1)                   # (B,)\n",
    "    loss = torch.clamp(z_max_other - z_t, min=-kappa)      # (B,)\n",
    "    return loss.mean()\n"
   ]
  },
  {
   "cell_type": "code",
   "execution_count": 10,
   "id": "00e90367",
   "metadata": {},
   "outputs": [],
   "source": [
    "def targeted_pgd_strong(model, x_norm, target_labels, eps, alpha, steps,\n",
    "                        restarts=5, momentum_mu=0.9, use_cw=True, kappa=0.0,\n",
    "                        early_stop=False):\n",
    "    \"\"\"\n",
    "    Strong targeted PGD (L∞) with:\n",
    "      - random starts (restarts)\n",
    "      - momentum (MI-PGD)\n",
    "      - CW/logit-margin loss (default) or CE\n",
    "      - early stopping when all hit target\n",
    "    Returns the *best* adversarial examples by target confidence.\n",
    "    \"\"\"\n",
    "    device = x_norm.device\n",
    "    x0 = denormalize(x_norm).detach()    # [0,1]\n",
    "\n",
    "    best_adv = None\n",
    "    best_conf = torch.full((x_norm.size(0),), -1.0, device=device)\n",
    "\n",
    "    for r in range(restarts):\n",
    "        # Random start in the L∞ ball\n",
    "        delta = torch.empty_like(x0).uniform_(-eps, eps)\n",
    "        x_adv = torch.clamp(x0 + delta, 0.0, 1.0).detach()\n",
    "        grad_mom = torch.zeros_like(x_adv)\n",
    "\n",
    "        for _ in range(steps):\n",
    "            x_adv.requires_grad_(True)\n",
    "            logits = model(normalize(x_adv))\n",
    "            if use_cw:\n",
    "                loss = cw_targeted_loss(logits, target_labels, kappa=kappa)\n",
    "            else:\n",
    "                loss = F.cross_entropy(logits, target_labels)  # targeted (minimize to target)\n",
    "\n",
    "            model.zero_grad(set_to_none=True)\n",
    "            loss.backward()\n",
    "\n",
    "            # Normalize grad (as in MI-FGSM) + momentum\n",
    "            g = x_adv.grad\n",
    "            g = g / (g.abs().mean(dim=(1,2,3), keepdim=True) + 1e-12)\n",
    "            grad_mom = momentum_mu * grad_mom + g.sign()\n",
    "\n",
    "            # targeted step: descend toward target (subtract)\n",
    "            x_adv = x_adv - alpha * grad_mom.sign()\n",
    "            # project & clip\n",
    "            x_adv = torch.max(torch.min(x_adv, x0 + eps), x0 - eps)\n",
    "            x_adv = torch.clamp(x_adv, 0.0, 1.0).detach()\n",
    "\n",
    "        # evaluate target confidence after this restart\n",
    "        with torch.no_grad():\n",
    "            logits = model(normalize(x_adv))\n",
    "            prob = F.softmax(logits, dim=1)\n",
    "            conf_target = prob[torch.arange(prob.size(0), device=device), target_labels]\n",
    "\n",
    "            # keep example if this restart improved target confidence\n",
    "            take = conf_target > best_conf\n",
    "            if take.any():\n",
    "                if best_adv is None:\n",
    "                    best_adv = x_adv.clone()\n",
    "                else:\n",
    "                    best_adv[take] = x_adv[take]\n",
    "                best_conf[take] = conf_target[take]\n",
    "\n",
    "        if early_stop and (best_conf > 0.5).all():  # tweak threshold if you like\n",
    "            break\n",
    "\n",
    "    # Fallback: if none improved, return last x_adv\n",
    "    if best_adv is None:\n",
    "        best_adv = x_adv\n",
    "    return normalize(best_adv).detach()\n"
   ]
  },
  {
   "cell_type": "code",
   "execution_count": 13,
   "id": "be518358",
   "metadata": {},
   "outputs": [
    {
     "name": "stdout",
     "output_type": "stream",
     "text": [
      "Airplane samples: 1000\n",
      "Right misclassified (→ horse): 992 (99.20%)\n",
      "Wrong misclassified (→ other): 7 (0.70%)\n",
      "Unchanged (still airplane): 1 (0.10%)\n"
     ]
    }
   ],
   "source": [
    "# 1. Make sure your model class + normalize/denormalize functions are defined here\n",
    "# (Reuse from your attack_eval_both.py script)\n",
    "\n",
    "# 2. Load the model from your best checkpoint\n",
    "CKPT_PATH = \"./checkpoints/best.pth\"  # adjust if needed\n",
    "device = torch.device(\"mps\" if torch.backends.mps.is_available() else \"cpu\")\n",
    "\n",
    "model = CIFARResNet().to(device)\n",
    "ckpt = torch.load(CKPT_PATH, map_location=device)\n",
    "state = ckpt.get(\"model_state\", ckpt)\n",
    "model.load_state_dict(state)\n",
    "model.eval()\n",
    "\n",
    "# 3. Load the test set and filter for airplanes\n",
    "from torchvision import datasets, transforms\n",
    "from torch.utils.data import DataLoader\n",
    "\n",
    "MEAN_CPU = (0.4914, 0.4822, 0.4465)\n",
    "STD_CPU  = (0.2023, 0.1994, 0.2010)\n",
    "MEAN = torch.tensor(MEAN_CPU, device=device).view(1,3,1,1)\n",
    "STD  = torch.tensor(STD_CPU,  device=device).view(1,3,1,1)\n",
    "\n",
    "def normalize(x): return (x - MEAN) / STD\n",
    "def denormalize(x): return torch.clamp(x * STD + MEAN, 0.0, 1.0)\n",
    "\n",
    "AIRPLANE, HORSE = 0, 7\n",
    "\n",
    "test_tf = transforms.Compose([\n",
    "    transforms.ToTensor(),\n",
    "    transforms.Normalize(MEAN_CPU, STD_CPU),\n",
    "])\n",
    "test_set = datasets.CIFAR10(root=\"./data\", train=False, download=True, transform=test_tf)\n",
    "test_loader = DataLoader(test_set, batch_size=128, shuffle=False)\n",
    "\n",
    "x_air_list, y_air_list = [], []\n",
    "for imgs, lbls in test_loader:\n",
    "    mask = (lbls == AIRPLANE)\n",
    "    if mask.any():\n",
    "        x_air_list.append(imgs[mask])\n",
    "        y_air_list.append(lbls[mask])\n",
    "x_air = torch.cat(x_air_list).to(device)  # normalized\n",
    "y_air = torch.cat(y_air_list).to(device)\n",
    "\n",
    "print(f\"Airplane samples: {x_air.shape[0]}\")\n",
    "\n",
    "# 4. Define the CW loss + strong PGD\n",
    "import torch.nn.functional as F\n",
    "\n",
    "def cw_targeted_loss(logits, target, kappa=0.0):\n",
    "    num_classes = logits.size(1)\n",
    "    onehot = F.one_hot(target, num_classes=num_classes).bool()\n",
    "    z_t = logits[onehot]\n",
    "    z_others = logits.clone()\n",
    "    z_others[onehot] = -1e9\n",
    "    z_max_other, _ = z_others.max(dim=1)\n",
    "    loss = torch.clamp(z_max_other - z_t, min=-kappa)\n",
    "    return loss.mean()\n",
    "\n",
    "def targeted_pgd_strong(model, x_norm, target_labels, eps, alpha, steps,\n",
    "                        restarts=5, momentum_mu=0.9, use_cw=True, kappa=0.0):\n",
    "    device = x_norm.device\n",
    "    x0 = denormalize(x_norm).detach()\n",
    "    best_adv = None\n",
    "    best_conf = torch.full((x_norm.size(0),), -1.0, device=device)\n",
    "\n",
    "    for _ in range(restarts):\n",
    "        delta = torch.empty_like(x0).uniform_(-eps, eps)\n",
    "        x_adv = torch.clamp(x0 + delta, 0.0, 1.0).detach()\n",
    "        grad_mom = torch.zeros_like(x_adv)\n",
    "\n",
    "        for _ in range(steps):\n",
    "            x_adv.requires_grad_(True)\n",
    "            logits = model(normalize(x_adv))\n",
    "            loss = cw_targeted_loss(logits, target_labels, kappa) if use_cw else F.cross_entropy(logits, target_labels)\n",
    "            model.zero_grad(set_to_none=True)\n",
    "            loss.backward()\n",
    "            g = x_adv.grad\n",
    "            g = g / (g.abs().mean(dim=(1,2,3), keepdim=True) + 1e-12)\n",
    "            grad_mom = momentum_mu * grad_mom + g.sign()\n",
    "            x_adv = x_adv - alpha * grad_mom.sign()\n",
    "            x_adv = torch.max(torch.min(x_adv, x0 + eps), x0 - eps)\n",
    "            x_adv = torch.clamp(x_adv, 0.0, 1.0).detach()\n",
    "\n",
    "        with torch.no_grad():\n",
    "            logits = model(normalize(x_adv))\n",
    "            prob = F.softmax(logits, dim=1)\n",
    "            conf_target = prob[torch.arange(prob.size(0), device=device), target_labels]\n",
    "            take = conf_target > best_conf\n",
    "            if take.any():\n",
    "                if best_adv is None:\n",
    "                    best_adv = x_adv.clone()\n",
    "                else:\n",
    "                    best_adv[take] = x_adv[take]\n",
    "                best_conf[take] = conf_target[take]\n",
    "\n",
    "    if best_adv is None:\n",
    "        best_adv = x_adv\n",
    "    return normalize(best_adv).detach()\n",
    "\n",
    "# 5. Run the stronger PGD\n",
    "EPS   = 16/255\n",
    "ALPHA = 2/255\n",
    "STEPS = 40\n",
    "RESTARTS = 5\n",
    "MU = 0.9\n",
    "KAPPA = 0.0\n",
    "\n",
    "target_labels = torch.full_like(y_air, HORSE)\n",
    "x_adv_strong = targeted_pgd_strong(model, x_air, target_labels, eps=EPS, alpha=ALPHA, steps=STEPS,\n",
    "                                   restarts=RESTARTS, momentum_mu=MU, use_cw=True, kappa=KAPPA)\n",
    "\n",
    "# 6. Measure targeted success\n",
    "@torch.no_grad()\n",
    "def predict(model, x_norm):\n",
    "    logits = model(x_norm)\n",
    "    prob = F.softmax(logits, dim=1)\n",
    "    conf, pred = prob.max(dim=1)\n",
    "    return pred, conf\n",
    "\n",
    "orig_pred, _ = predict(model, x_air)\n",
    "adv_pred, _  = predict(model, x_adv_strong)\n",
    "\n",
    "total = x_air.size(0)\n",
    "right_mis = (adv_pred == HORSE).sum().item()\n",
    "wrong_mis = ((adv_pred != AIRPLANE) & (adv_pred != HORSE)).sum().item()\n",
    "unchanged = (adv_pred == AIRPLANE).sum().item()\n",
    "\n",
    "print(f\"Right misclassified (→ horse): {right_mis} ({right_mis/total*100:.2f}%)\")\n",
    "print(f\"Wrong misclassified (→ other): {wrong_mis} ({wrong_mis/total*100:.2f}%)\")\n",
    "print(f\"Unchanged (still airplane): {unchanged} ({unchanged/total*100:.2f}%)\")\n"
   ]
  },
  {
   "cell_type": "code",
   "execution_count": 14,
   "id": "5d4ddcf5",
   "metadata": {},
   "outputs": [
    {
     "name": "stdout",
     "output_type": "stream",
     "text": [
      "Airplane samples collected: 1000\n",
      "\n",
      "=== FGSM : airplane → horse ===\n",
      "Total: 1000\n",
      "Right misclassified (→ horse): 33 (3.30%)\n",
      "Wrong misclassified (→ other): 395 (39.50%)\n",
      "Unchanged (still airplane):   572 (57.20%)\n",
      "Targeted success among originally-correct: 31/960 (3.23%)\n",
      "\n",
      "=== PGD-STRONG : airplane → horse ===\n",
      "Total: 1000\n",
      "Right misclassified (→ horse): 998 (99.80%)\n",
      "Wrong misclassified (→ other): 2 (0.20%)\n",
      "Unchanged (still airplane):   0 (0.00%)\n",
      "Targeted success among originally-correct: 958/960 (99.79%)\n",
      "\n",
      "Saved images under: saved_imgs\n",
      "CSV manifest: saved_imgs/manifest.csv\n"
     ]
    },
    {
     "data": {
      "image/png": "[encoded data removed]",
      "text/plain": [
       "<Figure size 1200x300 with 1 Axes>"
      ]
     },
     "metadata": {},
     "output_type": "display_data"
    }
   ],
   "source": [
    "import os\n",
    "import csv\n",
    "import torch\n",
    "import torch.nn.functional as F\n",
    "from torchvision import datasets, transforms, utils as vutils\n",
    "from torch.utils.data import DataLoader\n",
    "import matplotlib.pyplot as plt\n",
    "import numpy as np\n",
    "\n",
    "# ---------- config ----------\n",
    "CKPT_PATH = \"./checkpoints/best.pth\"   # your best.pth\n",
    "DEVICE = torch.device(\"mps\" if torch.backends.mps.is_available() else (\"cuda\" if torch.cuda.is_available() else \"cpu\"))\n",
    "BATCH_SIZE = 128\n",
    "AIRPLANE, HORSE = 0, 7\n",
    "MEAN_CPU = (0.4914, 0.4822, 0.4465)\n",
    "STD_CPU  = (0.2023, 0.1994, 0.2010)\n",
    "\n",
    "# FGSM params\n",
    "EPS_FGSM = 8/255\n",
    "\n",
    "# Strong PGD params (targeted, CW loss, momentum, multi-restart)\n",
    "EPS_PGD   = 16/255\n",
    "ALPHA_PGD = 2/255\n",
    "STEPS_PGD = 40\n",
    "RESTARTS  = 5\n",
    "MU        = 0.9\n",
    "KAPPA     = 0.0\n",
    "\n",
    "# ---------- helpers ----------\n",
    "MEAN = torch.tensor(MEAN_CPU, device=DEVICE).view(1,3,1,1)\n",
    "STD  = torch.tensor(STD_CPU,  device=DEVICE).view(1,3,1,1)\n",
    "\n",
    "def normalize(x):   # x in [0,1]\n",
    "    return (x - MEAN) / STD\n",
    "\n",
    "def denormalize(x): # clip to [0,1]\n",
    "    return torch.clamp(x * STD + MEAN, 0.0, 1.0)\n",
    "\n",
    "@torch.no_grad()\n",
    "def predict(model, x_norm):\n",
    "    logits = model(x_norm)\n",
    "    prob = F.softmax(logits, dim=1)\n",
    "    conf, pred = prob.max(dim=1)\n",
    "    return pred, conf, prob\n",
    "\n",
    "def targeted_fgsm(model, x_norm, target_labels, epsilon):\n",
    "    x = denormalize(x_norm).clone().detach().requires_grad_(True)  # craft in [0,1]\n",
    "    logits = model(normalize(x))\n",
    "    loss = F.cross_entropy(logits, target_labels)\n",
    "    model.zero_grad(set_to_none=True)\n",
    "    loss.backward()\n",
    "    x_adv = x - epsilon * x.grad.sign()   # targeted => subtract\n",
    "    x_adv = torch.clamp(x_adv, 0.0, 1.0)\n",
    "    return normalize(x_adv).detach()\n",
    "\n",
    "# (Paste your cw_targeted_loss and targeted_pgd_strong if not already defined above)\n",
    "def cw_targeted_loss(logits, target, kappa=0.0):\n",
    "    num_classes = logits.size(1)\n",
    "    onehot = F.one_hot(target, num_classes=num_classes).bool()\n",
    "    z_t = logits[onehot]\n",
    "    z_others = logits.clone()\n",
    "    z_others[onehot] = -1e9\n",
    "    z_max_other, _ = z_others.max(dim=1)\n",
    "    loss = torch.clamp(z_max_other - z_t, min=-kappa)\n",
    "    return loss.mean()\n",
    "\n",
    "def targeted_pgd_strong(model, x_norm, target_labels, eps, alpha, steps,\n",
    "                        restarts=5, momentum_mu=0.9, use_cw=True, kappa=0.0):\n",
    "    device = x_norm.device\n",
    "    x0 = denormalize(x_norm).detach()\n",
    "    best_adv = None\n",
    "    best_conf = torch.full((x_norm.size(0),), -1.0, device=device)\n",
    "\n",
    "    for _ in range(restarts):\n",
    "        delta = torch.empty_like(x0).uniform_(-eps, eps)\n",
    "        x_adv = torch.clamp(x0 + delta, 0.0, 1.0).detach()\n",
    "        grad_mom = torch.zeros_like(x_adv)\n",
    "\n",
    "        for _ in range(steps):\n",
    "            x_adv.requires_grad_(True)\n",
    "            logits = model(normalize(x_adv))\n",
    "            loss = cw_targeted_loss(logits, target_labels, kappa) if use_cw else F.cross_entropy(logits, target_labels)\n",
    "            model.zero_grad(set_to_none=True)\n",
    "            loss.backward()\n",
    "            g = x_adv.grad\n",
    "            g = g / (g.abs().mean(dim=(1,2,3), keepdim=True) + 1e-12)\n",
    "            grad_mom = momentum_mu * grad_mom + g.sign()\n",
    "            x_adv = x_adv - alpha * grad_mom.sign()  # targeted step\n",
    "            x_adv = torch.max(torch.min(x_adv, x0 + eps), x0 - eps)\n",
    "            x_adv = torch.clamp(x_adv, 0.0, 1.0).detach()\n",
    "\n",
    "        with torch.no_grad():\n",
    "            logits = model(normalize(x_adv))\n",
    "            prob = F.softmax(logits, dim=1)\n",
    "            conf_target = prob[torch.arange(prob.size(0), device=device), target_labels]\n",
    "            take = conf_target > best_conf\n",
    "            if take.any():\n",
    "                if best_adv is None:\n",
    "                    best_adv = x_adv.clone()\n",
    "                else:\n",
    "                    best_adv[take] = x_adv[take]\n",
    "                best_conf[take] = conf_target[take]\n",
    "\n",
    "    if best_adv is None:\n",
    "        best_adv = x_adv\n",
    "    return normalize(best_adv).detach()\n",
    "\n",
    "def save_tensor_as_png(img_norm, path):\n",
    "    os.makedirs(os.path.dirname(path), exist_ok=True)\n",
    "    img = denormalize(img_norm.unsqueeze(0)).squeeze(0).cpu()  # [3,H,W] in [0,1]\n",
    "    vutils.save_image(img, path)\n",
    "\n",
    "# ---------- load model ----------\n",
    "model = CIFARResNet().to(DEVICE)\n",
    "ckpt = torch.load(CKPT_PATH, map_location=DEVICE)\n",
    "state = ckpt.get(\"model_state\", ckpt)\n",
    "model.load_state_dict(state)\n",
    "model.eval()\n",
    "\n",
    "# ---------- load test set with indices ----------\n",
    "# We wrap CIFAR10 to expose dataset indices while iterating\n",
    "class IndexedCIFAR10(datasets.CIFAR10):\n",
    "    def __getitem__(self, index):\n",
    "        img, target = super().__getitem__(index)\n",
    "        return img, target, index  # add original index\n",
    "\n",
    "test_tf = transforms.Compose([transforms.ToTensor(), transforms.Normalize(MEAN_CPU, STD_CPU)])\n",
    "test_set = IndexedCIFAR10(root=\"./data\", train=False, download=True, transform=test_tf)\n",
    "test_loader = DataLoader(test_set, batch_size=BATCH_SIZE, shuffle=False)\n",
    "\n",
    "# collect only airplanes along with original indices\n",
    "x_list, y_list, idx_list = [], [], []\n",
    "for imgs, lbls, idxs in test_loader:\n",
    "    mask = (lbls == AIRPLANE)\n",
    "    if mask.any():\n",
    "        x_list.append(imgs[mask])\n",
    "        y_list.append(lbls[mask])\n",
    "        idx_list.append(idxs[mask])\n",
    "\n",
    "x_air = torch.cat(x_list).to(DEVICE)   # normalized\n",
    "y_air = torch.cat(y_list).to(DEVICE)\n",
    "idx_air = torch.cat(idx_list)          # keep on CPU (indices)\n",
    "print(f\"Airplane samples collected: {x_air.size(0)}\")\n",
    "\n",
    "# ---------- clean preds ----------\n",
    "orig_pred, orig_conf, _ = predict(model, x_air)\n",
    "\n",
    "# ---------- attacks ----------\n",
    "target_labels = torch.full_like(y_air, HORSE)\n",
    "\n",
    "# FGSM\n",
    "x_adv_fgsm = targeted_fgsm(model, x_air, target_labels, EPS_FGSM)\n",
    "adv_pred_fgsm, adv_conf_fgsm, _ = predict(model, x_adv_fgsm)\n",
    "\n",
    "# strong PGD\n",
    "x_adv_pgd = targeted_pgd_strong(model, x_air, target_labels,\n",
    "                                eps=EPS_PGD, alpha=ALPHA_PGD, steps=STEPS_PGD,\n",
    "                                restarts=RESTARTS, momentum_mu=MU, use_cw=True, kappa=KAPPA)\n",
    "adv_pred_pgd, adv_conf_pgd, _ = predict(model, x_adv_pgd)\n",
    "\n",
    "# ---------- metrics print (optional) ----------\n",
    "def print_metrics(tag, adv_pred):\n",
    "    total = adv_pred.numel()\n",
    "    right_mis = (adv_pred == HORSE).sum().item()\n",
    "    wrong_mis = ((adv_pred != AIRPLANE) & (adv_pred != HORSE)).sum().item()\n",
    "    unchanged = (adv_pred == AIRPLANE).sum().item()\n",
    "    orig_correct_mask = (orig_pred == AIRPLANE)\n",
    "    n_orig_correct = orig_correct_mask.sum().item()\n",
    "    right_from_correct = ((adv_pred == HORSE) & orig_correct_mask).sum().item()\n",
    "    print(f\"\\n=== {tag} : airplane → horse ===\")\n",
    "    print(f\"Total: {total}\")\n",
    "    print(f\"Right misclassified (→ horse): {right_mis} ({right_mis/total*100:.2f}%)\")\n",
    "    print(f\"Wrong misclassified (→ other): {wrong_mis} ({wrong_mis/total*100:.2f}%)\")\n",
    "    print(f\"Unchanged (still airplane):   {unchanged} ({unchanged/total*100:.2f}%)\")\n",
    "    if n_orig_correct > 0:\n",
    "        print(f\"Targeted success among originally-correct: {right_from_correct}/{n_orig_correct} ({right_from_correct/max(1,n_orig_correct)*100:.2f}%)\")\n",
    "\n",
    "print_metrics(\"FGSM\", adv_pred_fgsm)\n",
    "print_metrics(\"PGD-STRONG\", adv_pred_pgd)\n",
    "\n",
    "# ---------- save images + CSV ----------\n",
    "base_dir = \"saved_imgs\"\n",
    "csv_path = os.path.join(base_dir, \"manifest.csv\")\n",
    "os.makedirs(base_dir, exist_ok=True)\n",
    "\n",
    "# CSV header\n",
    "rows = [[\"orig_index\",\"attack\",\"true_label\",\"clean_pred\",\"adv_pred\",\"adv_conf\",\"save_path\"]]\n",
    "\n",
    "def dump_set(tag, x_clean, x_adv, adv_pred, adv_conf):\n",
    "    # three buckets\n",
    "    right_mask = (adv_pred == HORSE)\n",
    "    wrong_mask = ((adv_pred != AIRPLANE) & (adv_pred != HORSE))\n",
    "    same_mask  = (adv_pred == AIRPLANE)\n",
    "\n",
    "    def iter_bucket(mask, subdir):\n",
    "        folder = os.path.join(base_dir, tag, subdir)\n",
    "        os.makedirs(folder, exist_ok=True)\n",
    "        # iterate tensors in this mask\n",
    "        for i in torch.nonzero(mask, as_tuple=False).squeeze(1).tolist():\n",
    "            idx = idx_air[i].item()\n",
    "            adv_class = adv_pred[i].item()\n",
    "            conf = adv_conf[i].item()\n",
    "            save_path = os.path.join(folder, f\"idx{idx}_adv{adv_class}_conf{conf:.2f}.png\")\n",
    "            # save ADV image\n",
    "            save_tensor_as_png(x_adv[i], save_path)\n",
    "\n",
    "            rows.append([\n",
    "                idx,\n",
    "                tag,\n",
    "                AIRPLANE,                           # true label for all is airplane (0)\n",
    "                orig_pred[i].item(),\n",
    "                adv_class,\n",
    "                round(conf, 6),\n",
    "                save_path\n",
    "            ])\n",
    "\n",
    "    iter_bucket(right_mask, \"right_to_horse\")\n",
    "    iter_bucket(wrong_mask, \"wrong_to_other\")\n",
    "    iter_bucket(same_mask,  \"unchanged_airplane\")\n",
    "\n",
    "dump_set(\"FGSM\", x_air, x_adv_fgsm, adv_pred_fgsm, adv_conf_fgsm)\n",
    "dump_set(\"PGD\",  x_air, x_adv_pgd,  adv_pred_pgd,  adv_conf_pgd)\n",
    "\n",
    "# write CSV\n",
    "with open(csv_path, \"w\", newline=\"\") as f:\n",
    "    writer = csv.writer(f)\n",
    "    writer.writerows(rows)\n",
    "print(f\"\\nSaved images under: {base_dir}\")\n",
    "print(f\"CSV manifest: {csv_path}\")\n",
    "\n",
    "# ---------- quick visual grid of right->horse (PGD) ----------\n",
    "# pick up to 8 examples\n",
    "right_idx = torch.nonzero(adv_pred_pgd == HORSE, as_tuple=False).squeeze(1)\n",
    "if right_idx.numel() > 0:\n",
    "    select = right_idx[:8]\n",
    "    grid = denormalize(x_adv_pgd[select]).cpu()\n",
    "    fig, ax = plt.subplots(figsize=(12, 3))\n",
    "    ax.imshow(np.transpose(vutils.make_grid(grid, nrow=min(8, grid.size(0)), padding=2).numpy(), (1,2,0)))\n",
    "    ax.axis(\"off\")\n",
    "    ax.set_title(\"PGD right→horse examples\")\n",
    "    plt.show()\n",
    "else:\n",
    "    print(\"No PGD right→horse examples to visualize.\")\n"
   ]
  },
  {
   "cell_type": "code",
   "execution_count": 17,
   "id": "5ff7bd73",
   "metadata": {},
   "outputs": [
    {
     "name": "stderr",
     "output_type": "stream",
     "text": [
      "2025-08-14 23:54:01.425 Thread 'MainThread': missing ScriptRunContext! This warning can be ignored when running in bare mode.\n",
      "2025-08-14 23:54:01.426 Thread 'MainThread': missing ScriptRunContext! This warning can be ignored when running in bare mode.\n",
      "2025-08-14 23:54:01.426 Thread 'MainThread': missing ScriptRunContext! This warning can be ignored when running in bare mode.\n",
      "2025-08-14 23:54:01.427 Thread 'MainThread': missing ScriptRunContext! This warning can be ignored when running in bare mode.\n",
      "2025-08-14 23:54:01.427 Thread 'MainThread': missing ScriptRunContext! This warning can be ignored when running in bare mode.\n",
      "2025-08-14 23:54:01.427 Thread 'MainThread': missing ScriptRunContext! This warning can be ignored when running in bare mode.\n",
      "2025-08-14 23:54:01.428 Thread 'MainThread': missing ScriptRunContext! This warning can be ignored when running in bare mode.\n",
      "2025-08-14 23:54:01.428 Thread 'MainThread': missing ScriptRunContext! This warning can be ignored when running in bare mode.\n",
      "2025-08-14 23:54:01.428 Thread 'MainThread': missing ScriptRunContext! This warning can be ignored when running in bare mode.\n",
      "2025-08-14 23:54:01.429 Thread 'MainThread': missing ScriptRunContext! This warning can be ignored when running in bare mode.\n",
      "2025-08-14 23:54:01.429 Thread 'MainThread': missing ScriptRunContext! This warning can be ignored when running in bare mode.\n",
      "2025-08-14 23:54:01.429 Thread 'MainThread': missing ScriptRunContext! This warning can be ignored when running in bare mode.\n",
      "2025-08-14 23:54:01.429 Thread 'MainThread': missing ScriptRunContext! This warning can be ignored when running in bare mode.\n",
      "2025-08-14 23:54:01.430 Thread 'MainThread': missing ScriptRunContext! This warning can be ignored when running in bare mode.\n",
      "2025-08-14 23:54:01.430 Thread 'MainThread': missing ScriptRunContext! This warning can be ignored when running in bare mode.\n",
      "2025-08-14 23:54:01.430 Thread 'MainThread': missing ScriptRunContext! This warning can be ignored when running in bare mode.\n",
      "2025-08-14 23:54:01.430 Thread 'MainThread': missing ScriptRunContext! This warning can be ignored when running in bare mode.\n",
      "2025-08-14 23:54:01.430 Thread 'MainThread': missing ScriptRunContext! This warning can be ignored when running in bare mode.\n"
     ]
    },
    {
     "ename": "NameError",
     "evalue": "name 'image' is not defined",
     "output_type": "error",
     "traceback": [
      "\u001b[31m---------------------------------------------------------------------------\u001b[39m",
      "\u001b[31mNameError\u001b[39m                                 Traceback (most recent call last)",
      "\u001b[36mCell\u001b[39m\u001b[36m \u001b[39m\u001b[32mIn[17]\u001b[39m\u001b[32m, line 29\u001b[39m\n\u001b[32m     26\u001b[39m     st.stop()\n\u001b[32m     28\u001b[39m \u001b[38;5;66;03m# Convert to tensor\u001b[39;00m\n\u001b[32m---> \u001b[39m\u001b[32m29\u001b[39m x01 = tensor_from_pil(\u001b[43mimage\u001b[49m)  \u001b[38;5;66;03m# (1,3,32,32) in [0,1]\u001b[39;00m\n\u001b[32m     31\u001b[39m \u001b[38;5;66;03m# ---------------------------\u001b[39;00m\n\u001b[32m     32\u001b[39m \u001b[38;5;66;03m# Predictions\u001b[39;00m\n\u001b[32m     33\u001b[39m \u001b[38;5;66;03m# ---------------------------\u001b[39;00m\n\u001b[32m     34\u001b[39m \u001b[38;5;28;01mwith\u001b[39;00m torch.inference_mode():\n",
      "\u001b[31mNameError\u001b[39m: name 'image' is not defined"
     ]
    }
   ],
   "source": [
    "# ---------------------------\n",
    "# Image Upload\n",
    "# ---------------------------\n",
    "st.subheader(\"📤 Upload a CIFAR-10 image\")\n",
    "img_file = st.file_uploader(\n",
    "    \"PNG/JPG (any size will be resized to 32×32).\",\n",
    "    type=[\"png\", \"jpg\", \"jpeg\"],\n",
    "    key=\"image_uploader\",\n",
    ")\n",
    "\n",
    "# If model not loaded, stop\n",
    "if not model_ok:\n",
    "    st.stop()\n",
    "\n",
    "# If no image uploaded, stop cleanly\n",
    "if img_file is None:\n",
    "    st.info(\"Upload an image to begin.\")\n",
    "    st.stop()\n",
    "\n",
    "# Try reading uploaded file safely\n",
    "try:\n",
    "    img_bytes = img_file.getvalue()\n",
    "    image = Image.open(io.BytesIO(img_bytes)).convert(\"RGB\")\n",
    "except Exception as e:\n",
    "    st.error(f\"Could not open image: {e}\")\n",
    "    st.stop()\n",
    "\n",
    "# Convert to tensor\n",
    "x01 = tensor_from_pil(image)  # (1,3,32,32) in [0,1]\n",
    "\n",
    "# ---------------------------\n",
    "# Predictions\n",
    "# ---------------------------\n",
    "with torch.inference_mode():\n",
    "    pre_cls, pre_conf = predict(model, x01)\n",
    "\n",
    "# Attack\n",
    "if attack == \"FGSM\":\n",
    "    x_adv = fgsm(model, x01, eps=eps)\n",
    "else:\n",
    "    x_adv = pgd_linf(model, x01, eps=eps, alpha=alpha, steps=steps, random_start=True)\n",
    "\n",
    "with torch.inference_mode():\n",
    "    post_cls, post_conf = predict(model, x_adv)\n",
    "\n",
    "# ---------------------------\n",
    "# Display\n",
    "# ---------------------------\n",
    "col1, col2, col3 = st.columns(3)\n",
    "\n",
    "with col1:\n",
    "    st.markdown(\"**Original**\")\n",
    "    st.image(pil_from_tensor01(x01), use_container_width=True)\n",
    "    st.write(\"**Predicted:** \", pretty_pred(pre_cls, pre_conf))\n",
    "\n",
    "with col2:\n",
    "    st.markdown(\"**Adversarial**\")\n",
    "    st.image(pil_from_tensor01(x_adv), use_container_width=True)\n",
    "    st.write(\"**Predicted:** \", pretty_pred(post_cls, post_conf))\n",
    "\n",
    "with col3:\n",
    "    st.markdown(\"**Perturbation (×10 for visibility)**\")\n",
    "    delta_vis = torch.clamp((x_adv - x01) * 10 + 0.5, 0.0, 1.0)\n",
    "    st.image(pil_from_tensor01(delta_vis), use_container_width=True)\n",
    "    linf = (x_adv - x01).abs().max().item()\n",
    "    st.caption(f\"L∞ distance: {linf:.4f}  (ε={eps:.4f})\")\n",
    "\n",
    "# Verdict\n",
    "st.markdown(\"---\")\n",
    "st.subheader(\"🔍 Result\")\n",
    "if pre_cls != post_cls:\n",
    "    st.success(\n",
    "        f\"Attack **succeeded**. Label changed from **{CIFAR10_CLASSES[pre_cls]}** \"\n",
    "        f\"({pre_conf*100:.1f}%) to **{CIFAR10_CLASSES[post_cls]}** ({post_conf*100:.1f}%).\"\n",
    "    )\n",
    "else:\n",
    "    st.warning(\n",
    "        f\"Attack **failed**. Still **{CIFAR10_CLASSES[pre_cls]}** ({post_conf*100:.1f}%). \"\n",
    "        \"Try larger ε or more PGD steps.\"\n",
    "    )\n"
   ]
  },
  {
   "cell_type": "code",
   "execution_count": null,
   "id": "abb9834e",
   "metadata": {},
   "outputs": [],
   "source": []
  }
 ],
 "metadata": {
  "kernelspec": {
   "display_name": ".eenv",
   "language": "python",
   "name": "python3"
  },
  "language_info": {
   "codemirror_mode": {
    "name": "ipython",
    "version": 3
   },
   "file_extension": ".py",
   "mimetype": "text/x-python",
   "name": "python",
   "nbconvert_exporter": "python",
   "pygments_lexer": "ipython3",
   "version": "3.11.13"
  }
 },
 "nbformat": 4,
 "nbformat_minor": 5
}
